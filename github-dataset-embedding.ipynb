{
 "cells": [
  {
   "cell_type": "markdown",
   "metadata": {},
   "source": [
    "# GitHub Pull Requests dataset\n",
    "## The dataset\n",
    "The dataset used for the base level knowledge augmentation can be found at\n",
    "https://www.kaggle.com/datasets/pelmers/github-public-pull-request-comments.\n",
    "\n",
    "It contains JSONs of Pull Request (file paths, comments, and diffs, among other things) from  mined from permissively-licensed GitHub public projects with at least 25 stars and 25 pull requests submitted at the time of access and covers Go, Java, JavaScript, TypeScript, and Python.\n",
    "\n",
    "## Data pipeline\n",
    "The task of this notebook is to ingest each Pull Request in the dataset, embed it using a feature extraction model, and upload it to a vector database in order to enable Retrieval Augmented Generation (RAG).\n",
    "Given the size of the overall dataset (over 30GB), this notebook will focus on the JavaScript portion of the dataset as a proof of concept."
   ]
  },
  {
   "cell_type": "markdown",
   "metadata": {},
   "source": [
    "### Data treatment\n",
    "Some level of treatment of the data is necessary given that:\n",
    "- All the data is present in a single json file, which is a barrier to parallelization of the embeddings upload\n",
    "- And although they fit the 25 start and 25 pull request requirement to be mined, for various reasons including PRs not being related to code covered by the dataset, some repositories present in the dataset had no data\n",
    "\n",
    "So in this notebook the subdataset is split into a json file for each repository in a manner that will facilitate future data processing pipelines of those files."
   ]
  },
  {
   "cell_type": "code",
   "execution_count": 1,
   "metadata": {},
   "outputs": [],
   "source": [
    "from tqdm.auto import tqdm\n",
    "import pandas as pd\n",
    "\n",
    "df = pd.read_json('dataset/mined-comments-25stars-25prs-JavaScript.json/mined-comments-25stars-25prs-JavaScript.json', orient='index')"
   ]
  },
  {
   "cell_type": "code",
   "execution_count": 2,
   "metadata": {},
   "outputs": [
    {
     "data": {
      "text/plain": [
       "(28835, 9224)"
      ]
     },
     "execution_count": 2,
     "metadata": {},
     "output_type": "execute_result"
    }
   ],
   "source": [
    "# checking how many rows it had before\n",
    "df.shape"
   ]
  },
  {
   "cell_type": "code",
   "execution_count": 3,
   "metadata": {},
   "outputs": [],
   "source": [
    "# remove any row that has not data\n",
    "df = df.dropna(axis=0, how='all')"
   ]
  },
  {
   "cell_type": "code",
   "execution_count": 4,
   "metadata": {},
   "outputs": [
    {
     "data": {
      "text/plain": [
       "(7366, 9224)"
      ]
     },
     "execution_count": 4,
     "metadata": {},
     "output_type": "execute_result"
    }
   ],
   "source": [
    "# checking how many rows it had after\n",
    "df.shape"
   ]
  },
  {
   "cell_type": "code",
   "execution_count": 5,
   "metadata": {},
   "outputs": [
    {
     "data": {
      "text/html": [
       "<div>\n",
       "<style scoped>\n",
       "    .dataframe tbody tr th:only-of-type {\n",
       "        vertical-align: middle;\n",
       "    }\n",
       "\n",
       "    .dataframe tbody tr th {\n",
       "        vertical-align: top;\n",
       "    }\n",
       "\n",
       "    .dataframe thead th {\n",
       "        text-align: right;\n",
       "    }\n",
       "</style>\n",
       "<table border=\"1\" class=\"dataframe\">\n",
       "  <thead>\n",
       "    <tr style=\"text-align: right;\">\n",
       "      <th></th>\n",
       "      <th>0</th>\n",
       "      <th>1</th>\n",
       "      <th>2</th>\n",
       "      <th>3</th>\n",
       "      <th>4</th>\n",
       "      <th>5</th>\n",
       "      <th>6</th>\n",
       "      <th>7</th>\n",
       "      <th>8</th>\n",
       "      <th>9</th>\n",
       "      <th>...</th>\n",
       "      <th>9214</th>\n",
       "      <th>9215</th>\n",
       "      <th>9216</th>\n",
       "      <th>9217</th>\n",
       "      <th>9218</th>\n",
       "      <th>9219</th>\n",
       "      <th>9220</th>\n",
       "      <th>9221</th>\n",
       "      <th>9222</th>\n",
       "      <th>9223</th>\n",
       "    </tr>\n",
       "  </thead>\n",
       "  <tbody>\n",
       "    <tr>\n",
       "      <th>trekhleb/javascript-algorithms</th>\n",
       "      <td>{'html_url': 'https://github.com/trekhleb/java...</td>\n",
       "      <td>{'html_url': 'https://github.com/trekhleb/java...</td>\n",
       "      <td>{'html_url': 'https://github.com/trekhleb/java...</td>\n",
       "      <td>{'html_url': 'https://github.com/trekhleb/java...</td>\n",
       "      <td>{'html_url': 'https://github.com/trekhleb/java...</td>\n",
       "      <td>{'html_url': 'https://github.com/trekhleb/java...</td>\n",
       "      <td>{'html_url': 'https://github.com/trekhleb/java...</td>\n",
       "      <td>{'html_url': 'https://github.com/trekhleb/java...</td>\n",
       "      <td>{'html_url': 'https://github.com/trekhleb/java...</td>\n",
       "      <td>{'html_url': 'https://github.com/trekhleb/java...</td>\n",
       "      <td>...</td>\n",
       "      <td>None</td>\n",
       "      <td>None</td>\n",
       "      <td>None</td>\n",
       "      <td>None</td>\n",
       "      <td>None</td>\n",
       "      <td>None</td>\n",
       "      <td>None</td>\n",
       "      <td>None</td>\n",
       "      <td>None</td>\n",
       "      <td>None</td>\n",
       "    </tr>\n",
       "    <tr>\n",
       "      <th>airbnb/javascript</th>\n",
       "      <td>{'html_url': 'https://github.com/airbnb/javasc...</td>\n",
       "      <td>{'html_url': 'https://github.com/airbnb/javasc...</td>\n",
       "      <td>{'html_url': 'https://github.com/airbnb/javasc...</td>\n",
       "      <td>{'html_url': 'https://github.com/airbnb/javasc...</td>\n",
       "      <td>{'html_url': 'https://github.com/airbnb/javasc...</td>\n",
       "      <td>{'html_url': 'https://github.com/airbnb/javasc...</td>\n",
       "      <td>{'html_url': 'https://github.com/airbnb/javasc...</td>\n",
       "      <td>{'html_url': 'https://github.com/airbnb/javasc...</td>\n",
       "      <td>{'html_url': 'https://github.com/airbnb/javasc...</td>\n",
       "      <td>{'html_url': 'https://github.com/airbnb/javasc...</td>\n",
       "      <td>...</td>\n",
       "      <td>None</td>\n",
       "      <td>None</td>\n",
       "      <td>None</td>\n",
       "      <td>None</td>\n",
       "      <td>None</td>\n",
       "      <td>None</td>\n",
       "      <td>None</td>\n",
       "      <td>None</td>\n",
       "      <td>None</td>\n",
       "      <td>None</td>\n",
       "    </tr>\n",
       "    <tr>\n",
       "      <th>twbs/bootstrap</th>\n",
       "      <td>{'html_url': 'https://github.com/twbs/bootstra...</td>\n",
       "      <td>{'html_url': 'https://github.com/twbs/bootstra...</td>\n",
       "      <td>{'html_url': 'https://github.com/twbs/bootstra...</td>\n",
       "      <td>{'html_url': 'https://github.com/twbs/bootstra...</td>\n",
       "      <td>{'html_url': 'https://github.com/twbs/bootstra...</td>\n",
       "      <td>{'html_url': 'https://github.com/twbs/bootstra...</td>\n",
       "      <td>{'html_url': 'https://github.com/twbs/bootstra...</td>\n",
       "      <td>{'html_url': 'https://github.com/twbs/bootstra...</td>\n",
       "      <td>{'html_url': 'https://github.com/twbs/bootstra...</td>\n",
       "      <td>{'html_url': 'https://github.com/twbs/bootstra...</td>\n",
       "      <td>...</td>\n",
       "      <td>None</td>\n",
       "      <td>None</td>\n",
       "      <td>None</td>\n",
       "      <td>None</td>\n",
       "      <td>None</td>\n",
       "      <td>None</td>\n",
       "      <td>None</td>\n",
       "      <td>None</td>\n",
       "      <td>None</td>\n",
       "      <td>None</td>\n",
       "    </tr>\n",
       "    <tr>\n",
       "      <th>30-seconds/30-seconds-of-code</th>\n",
       "      <td>{'html_url': 'https://github.com/30-seconds/30...</td>\n",
       "      <td>{'html_url': 'https://github.com/30-seconds/30...</td>\n",
       "      <td>{'html_url': 'https://github.com/30-seconds/30...</td>\n",
       "      <td>{'html_url': 'https://github.com/30-seconds/30...</td>\n",
       "      <td>{'html_url': 'https://github.com/30-seconds/30...</td>\n",
       "      <td>{'html_url': 'https://github.com/30-seconds/30...</td>\n",
       "      <td>{'html_url': 'https://github.com/30-seconds/30...</td>\n",
       "      <td>{'html_url': 'https://github.com/30-seconds/30...</td>\n",
       "      <td>{'html_url': 'https://github.com/30-seconds/30...</td>\n",
       "      <td>{'html_url': 'https://github.com/30-seconds/30...</td>\n",
       "      <td>...</td>\n",
       "      <td>None</td>\n",
       "      <td>None</td>\n",
       "      <td>None</td>\n",
       "      <td>None</td>\n",
       "      <td>None</td>\n",
       "      <td>None</td>\n",
       "      <td>None</td>\n",
       "      <td>None</td>\n",
       "      <td>None</td>\n",
       "      <td>None</td>\n",
       "    </tr>\n",
       "    <tr>\n",
       "      <th>d3/d3</th>\n",
       "      <td>{'html_url': 'https://github.com/d3/d3/pull/10...</td>\n",
       "      <td>{'html_url': 'https://github.com/d3/d3/pull/10...</td>\n",
       "      <td>{'html_url': 'https://github.com/d3/d3/pull/10...</td>\n",
       "      <td>{'html_url': 'https://github.com/d3/d3/pull/10...</td>\n",
       "      <td>{'html_url': 'https://github.com/d3/d3/pull/10...</td>\n",
       "      <td>{'html_url': 'https://github.com/d3/d3/pull/10...</td>\n",
       "      <td>{'html_url': 'https://github.com/d3/d3/pull/10...</td>\n",
       "      <td>{'html_url': 'https://github.com/d3/d3/pull/10...</td>\n",
       "      <td>{'html_url': 'https://github.com/d3/d3/pull/10...</td>\n",
       "      <td>{'html_url': 'https://github.com/d3/d3/pull/10...</td>\n",
       "      <td>...</td>\n",
       "      <td>None</td>\n",
       "      <td>None</td>\n",
       "      <td>None</td>\n",
       "      <td>None</td>\n",
       "      <td>None</td>\n",
       "      <td>None</td>\n",
       "      <td>None</td>\n",
       "      <td>None</td>\n",
       "      <td>None</td>\n",
       "      <td>None</td>\n",
       "    </tr>\n",
       "  </tbody>\n",
       "</table>\n",
       "<p>5 rows × 9224 columns</p>\n",
       "</div>"
      ],
      "text/plain": [
       "                                                                             0     \\\n",
       "trekhleb/javascript-algorithms  {'html_url': 'https://github.com/trekhleb/java...   \n",
       "airbnb/javascript               {'html_url': 'https://github.com/airbnb/javasc...   \n",
       "twbs/bootstrap                  {'html_url': 'https://github.com/twbs/bootstra...   \n",
       "30-seconds/30-seconds-of-code   {'html_url': 'https://github.com/30-seconds/30...   \n",
       "d3/d3                           {'html_url': 'https://github.com/d3/d3/pull/10...   \n",
       "\n",
       "                                                                             1     \\\n",
       "trekhleb/javascript-algorithms  {'html_url': 'https://github.com/trekhleb/java...   \n",
       "airbnb/javascript               {'html_url': 'https://github.com/airbnb/javasc...   \n",
       "twbs/bootstrap                  {'html_url': 'https://github.com/twbs/bootstra...   \n",
       "30-seconds/30-seconds-of-code   {'html_url': 'https://github.com/30-seconds/30...   \n",
       "d3/d3                           {'html_url': 'https://github.com/d3/d3/pull/10...   \n",
       "\n",
       "                                                                             2     \\\n",
       "trekhleb/javascript-algorithms  {'html_url': 'https://github.com/trekhleb/java...   \n",
       "airbnb/javascript               {'html_url': 'https://github.com/airbnb/javasc...   \n",
       "twbs/bootstrap                  {'html_url': 'https://github.com/twbs/bootstra...   \n",
       "30-seconds/30-seconds-of-code   {'html_url': 'https://github.com/30-seconds/30...   \n",
       "d3/d3                           {'html_url': 'https://github.com/d3/d3/pull/10...   \n",
       "\n",
       "                                                                             3     \\\n",
       "trekhleb/javascript-algorithms  {'html_url': 'https://github.com/trekhleb/java...   \n",
       "airbnb/javascript               {'html_url': 'https://github.com/airbnb/javasc...   \n",
       "twbs/bootstrap                  {'html_url': 'https://github.com/twbs/bootstra...   \n",
       "30-seconds/30-seconds-of-code   {'html_url': 'https://github.com/30-seconds/30...   \n",
       "d3/d3                           {'html_url': 'https://github.com/d3/d3/pull/10...   \n",
       "\n",
       "                                                                             4     \\\n",
       "trekhleb/javascript-algorithms  {'html_url': 'https://github.com/trekhleb/java...   \n",
       "airbnb/javascript               {'html_url': 'https://github.com/airbnb/javasc...   \n",
       "twbs/bootstrap                  {'html_url': 'https://github.com/twbs/bootstra...   \n",
       "30-seconds/30-seconds-of-code   {'html_url': 'https://github.com/30-seconds/30...   \n",
       "d3/d3                           {'html_url': 'https://github.com/d3/d3/pull/10...   \n",
       "\n",
       "                                                                             5     \\\n",
       "trekhleb/javascript-algorithms  {'html_url': 'https://github.com/trekhleb/java...   \n",
       "airbnb/javascript               {'html_url': 'https://github.com/airbnb/javasc...   \n",
       "twbs/bootstrap                  {'html_url': 'https://github.com/twbs/bootstra...   \n",
       "30-seconds/30-seconds-of-code   {'html_url': 'https://github.com/30-seconds/30...   \n",
       "d3/d3                           {'html_url': 'https://github.com/d3/d3/pull/10...   \n",
       "\n",
       "                                                                             6     \\\n",
       "trekhleb/javascript-algorithms  {'html_url': 'https://github.com/trekhleb/java...   \n",
       "airbnb/javascript               {'html_url': 'https://github.com/airbnb/javasc...   \n",
       "twbs/bootstrap                  {'html_url': 'https://github.com/twbs/bootstra...   \n",
       "30-seconds/30-seconds-of-code   {'html_url': 'https://github.com/30-seconds/30...   \n",
       "d3/d3                           {'html_url': 'https://github.com/d3/d3/pull/10...   \n",
       "\n",
       "                                                                             7     \\\n",
       "trekhleb/javascript-algorithms  {'html_url': 'https://github.com/trekhleb/java...   \n",
       "airbnb/javascript               {'html_url': 'https://github.com/airbnb/javasc...   \n",
       "twbs/bootstrap                  {'html_url': 'https://github.com/twbs/bootstra...   \n",
       "30-seconds/30-seconds-of-code   {'html_url': 'https://github.com/30-seconds/30...   \n",
       "d3/d3                           {'html_url': 'https://github.com/d3/d3/pull/10...   \n",
       "\n",
       "                                                                             8     \\\n",
       "trekhleb/javascript-algorithms  {'html_url': 'https://github.com/trekhleb/java...   \n",
       "airbnb/javascript               {'html_url': 'https://github.com/airbnb/javasc...   \n",
       "twbs/bootstrap                  {'html_url': 'https://github.com/twbs/bootstra...   \n",
       "30-seconds/30-seconds-of-code   {'html_url': 'https://github.com/30-seconds/30...   \n",
       "d3/d3                           {'html_url': 'https://github.com/d3/d3/pull/10...   \n",
       "\n",
       "                                                                             9     \\\n",
       "trekhleb/javascript-algorithms  {'html_url': 'https://github.com/trekhleb/java...   \n",
       "airbnb/javascript               {'html_url': 'https://github.com/airbnb/javasc...   \n",
       "twbs/bootstrap                  {'html_url': 'https://github.com/twbs/bootstra...   \n",
       "30-seconds/30-seconds-of-code   {'html_url': 'https://github.com/30-seconds/30...   \n",
       "d3/d3                           {'html_url': 'https://github.com/d3/d3/pull/10...   \n",
       "\n",
       "                                ...  9214  9215  9216  9217  9218  9219  9220  \\\n",
       "trekhleb/javascript-algorithms  ...  None  None  None  None  None  None  None   \n",
       "airbnb/javascript               ...  None  None  None  None  None  None  None   \n",
       "twbs/bootstrap                  ...  None  None  None  None  None  None  None   \n",
       "30-seconds/30-seconds-of-code   ...  None  None  None  None  None  None  None   \n",
       "d3/d3                           ...  None  None  None  None  None  None  None   \n",
       "\n",
       "                                9221  9222  9223  \n",
       "trekhleb/javascript-algorithms  None  None  None  \n",
       "airbnb/javascript               None  None  None  \n",
       "twbs/bootstrap                  None  None  None  \n",
       "30-seconds/30-seconds-of-code   None  None  None  \n",
       "d3/d3                           None  None  None  \n",
       "\n",
       "[5 rows x 9224 columns]"
      ]
     },
     "execution_count": 5,
     "metadata": {},
     "output_type": "execute_result"
    }
   ],
   "source": [
    "df.head()"
   ]
  },
  {
   "cell_type": "code",
   "execution_count": 6,
   "metadata": {},
   "outputs": [
    {
     "data": {
      "text/plain": [
       "Index(['trekhleb/javascript-algorithms', 'airbnb/javascript', 'twbs/bootstrap',\n",
       "       '30-seconds/30-seconds-of-code', 'd3/d3', 'facebook/react',\n",
       "       'facebook/react-native', 'facebook/create-react-app', 'axios/axios',\n",
       "       'vercel/next.js',\n",
       "       ...\n",
       "       'ezsystems/ezoe', 'mac-/hapi-statsd', 'twinlabs/forum',\n",
       "       'strongloop/loopback-sdk-angular-cli', 'bem/bem-mvc',\n",
       "       'manguezal/manguezal.github.com', 'Ember-SC/peepcode-ordr-test',\n",
       "       'apache/cordova-coho', 'papandreou/node-jpegtran',\n",
       "       'meetup/meetup-web-components'],\n",
       "      dtype='object', length=7366)"
      ]
     },
     "execution_count": 6,
     "metadata": {},
     "output_type": "execute_result"
    }
   ],
   "source": [
    "df.index"
   ]
  },
  {
   "cell_type": "code",
   "execution_count": 7,
   "metadata": {},
   "outputs": [
    {
     "data": {
      "text/plain": [
       "RangeIndex(start=0, stop=9224, step=1)"
      ]
     },
     "execution_count": 7,
     "metadata": {},
     "output_type": "execute_result"
    }
   ],
   "source": [
    "df.columns"
   ]
  },
  {
   "cell_type": "code",
   "execution_count": 8,
   "metadata": {},
   "outputs": [
    {
     "data": {
      "application/vnd.jupyter.widget-view+json": {
       "model_id": "dbfd40c1dc5a4529831241293b552b38",
       "version_major": 2,
       "version_minor": 0
      },
      "text/plain": [
       "Separating data by repository:   0%|          | 0/7366 [00:00<?, ?it/s]"
      ]
     },
     "metadata": {},
     "output_type": "display_data"
    }
   ],
   "source": [
    "# saving each row of the df to a dataframe\n",
    "dfs = []\n",
    "for i in tqdm(range(len(df)), 'Separating data by repository'):\n",
    "    dfs.append(pd.DataFrame(df.iloc[i]).T)"
   ]
  },
  {
   "cell_type": "code",
   "execution_count": 9,
   "metadata": {},
   "outputs": [],
   "source": [
    "# deleting the df variable to save memory\n",
    "del df"
   ]
  },
  {
   "cell_type": "code",
   "execution_count": 10,
   "metadata": {},
   "outputs": [
    {
     "data": {
      "application/vnd.jupyter.widget-view+json": {
       "model_id": "713e40f3dd214ee08d0df7b591e262a9",
       "version_major": 2,
       "version_minor": 0
      },
      "text/plain": [
       "Removing empty cells:   0%|          | 0/7366 [00:00<?, ?it/s]"
      ]
     },
     "metadata": {},
     "output_type": "display_data"
    }
   ],
   "source": [
    "# dropping cells with empty data in each dataframe\n",
    "for i in tqdm(range(len(dfs)), 'Removing empty cells'):\n",
    "    dfs[i] = dfs[i].dropna(axis='columns', how='all')"
   ]
  },
  {
   "cell_type": "code",
   "execution_count": 11,
   "metadata": {},
   "outputs": [],
   "source": [
    "# ordering the dataframes by the number of PRs of each repository in descending order\n",
    "dfs = sorted(dfs, key=lambda x: len(x.columns), reverse=True)"
   ]
  },
  {
   "cell_type": "code",
   "execution_count": 12,
   "metadata": {},
   "outputs": [
    {
     "data": {
      "text/html": [
       "<div>\n",
       "<style scoped>\n",
       "    .dataframe tbody tr th:only-of-type {\n",
       "        vertical-align: middle;\n",
       "    }\n",
       "\n",
       "    .dataframe tbody tr th {\n",
       "        vertical-align: top;\n",
       "    }\n",
       "\n",
       "    .dataframe thead th {\n",
       "        text-align: right;\n",
       "    }\n",
       "</style>\n",
       "<table border=\"1\" class=\"dataframe\">\n",
       "  <thead>\n",
       "    <tr style=\"text-align: right;\">\n",
       "      <th></th>\n",
       "      <th>0</th>\n",
       "    </tr>\n",
       "  </thead>\n",
       "  <tbody>\n",
       "    <tr>\n",
       "      <th>manguezal/manguezal.github.com</th>\n",
       "      <td>{'html_url': 'https://github.com/manguezal/man...</td>\n",
       "    </tr>\n",
       "  </tbody>\n",
       "</table>\n",
       "</div>"
      ],
      "text/plain": [
       "                                                                                0\n",
       "manguezal/manguezal.github.com  {'html_url': 'https://github.com/manguezal/man..."
      ]
     },
     "execution_count": 12,
     "metadata": {},
     "output_type": "execute_result"
    }
   ],
   "source": [
    "dfs[len(dfs) - 1]"
   ]
  },
  {
   "cell_type": "code",
   "execution_count": 13,
   "metadata": {},
   "outputs": [
    {
     "data": {
      "text/plain": [
       "{'html_url': 'https://github.com/plotly/plotly.js/pull/1#discussion_r44735997',\n",
       " 'path': 'devtools/test_dashboard/server.js',\n",
       " 'line': 36,\n",
       " 'body': 'the test dashboard server script uses the same watch-bundling machinery as `npm run watch` \\n:palm_tree: :palm_tree: \\n',\n",
       " 'user': 'etpinard',\n",
       " 'diff_hunk': \"@@ -1,89 +1,53 @@\\n-var http = require('http');\\n-var ecstatic = require('ecstatic');\\n-var browserify = require('browserify');\\n-var open = require('open');\\n var fs = require('fs');\\n-var watchify = require('watchify');\\n+var http = require('http');\\n var path = require('path');\\n-var outpipe = require('outpipe');\\n-var outfile = path.join(__dirname, '../shelly/plotlyjs/static/plotlyjs/build/plotlyjs-bundle.js');\\n-\\n-var testFile = './test';\\n-\\n-switch(process.argv[2]) {\\n-  case 'geo':\\n-    testFile = './test-geo';\\n-  break;\\n-  case '2d':\\n-    testFile = './test-2d';\\n-  break;\\n-}\\n-\\n-console.log('using ' + testFile);\\n-\\n-var b = browserify(path.join(__dirname, '../shelly/plotlyjs/static/plotlyjs/src/plotly.js'), {\\n-  debug: true,\\n-  verbose: true,\\n-  standalone: 'Plotly',\\n-  transform: path.join(__dirname, '../shelly/plotlyjs/static/plotlyjs/compress_attributes.js'),\\n-  cache: {},\\n-  packageCache: {}\\n-});\\n-\\n-\\n-var w = watchify(b);\\n \\n-var bytes, time;\\n-w.on('bytes', function (b) { bytes = b });\\n-w.on('time', function (t) { time = t });\\n-\\n-w.on('update', bundle);\\n-bundle();\\n+var browserify = require('browserify');\\n+var ecstatic = require('ecstatic');\\n+var _open = require('open');\\n \\n-var firstBundle = true;\\n+var makeWatchifiedBundle = require('../../tasks/util/make_watchified_bundle');\\n+var shortcutPaths = require('../../tasks/util/shortcut_paths');\\n+var constants = require('../../tasks/util/constants');\\n \\n-function bundle () {\\n-    var didError = false;\\n-    var outStream = process.platform === 'win32'\\n-        ? fs.createWriteStream(outfile)\\n-        : outpipe(outfile);\\n \\n-    var wb = w.bundle();\\n-    wb.on('error', function (err) {\\n-        console.error(String(err));\\n-        didError = true;\\n-        outStream.end('console.error('+JSON.stringify(String(err))+');');\\n-    });\\n-    wb.pipe(outStream);\\n+// TODO make this an optional argument\\n+var PORT = '8080';\\n \\n-    outStream.on('error', function (err) {\\n-        console.error(err);\\n-    });\\n-    outStream.on('close', function () {\\n-        if (!didError) {\\n-            console.error(bytes + ' bytes written to ' + outfile\\n-                + ' (' + (time / 1000).toFixed(2) + ' seconds)'\\n-            );\\n-            if(firstBundle) {\\n-              open('http://localhost:8080/test-dashboard');\\n-              firstBundle = false;\\n-            }\\n-        }\\n-    });\\n+var testFile;\\n+switch(process.argv[2]) {\\n+    case 'geo':\\n+        testFile = './test-geo';\\n+    break;\\n+    case '2d':\\n+        testFile = './test-2d';\\n+    break;\\n+    default:\\n+        testFile = './test-3d';\\n }\\n \\n-////// build the test examples\\n+console.log('Using ' + testFile);\\n+console.log('Listening on :' + PORT + '\\\\n');\\n \\n-fs.unlink('./test-bundle.js', function(error) {\\n-    browserify({\\n+// watch plotly.js\\n+var watchifiedBundle = makeWatchifiedBundle(function onFirstBundleCallback() {\\n+    _open('http://localhost:' + PORT + '/devtools/test_dashboard');\\n+});\\n+watchifiedBundle();\",\n",
       " 'author_association': 'CONTRIBUTOR',\n",
       " 'commit_id': '2abf31f5cb19b7cca9a4944ee506fe716ec44442',\n",
       " 'id': 44735997}"
      ]
     },
     "execution_count": 13,
     "metadata": {},
     "output_type": "execute_result"
    }
   ],
   "source": [
    "dfs[0][0][0]"
   ]
  },
  {
   "cell_type": "code",
   "execution_count": 14,
   "metadata": {},
   "outputs": [
    {
     "data": {
      "application/vnd.jupyter.widget-view+json": {
       "model_id": "f9b66d1e69c54a7385352be8f89bd11f",
       "version_major": 2,
       "version_minor": 0
      },
      "text/plain": [
       "Replace every / in the index with a -:   0%|          | 0/7366 [00:00<?, ?it/s]"
      ]
     },
     "metadata": {},
     "output_type": "display_data"
    }
   ],
   "source": [
    "for i in tqdm(range(len(dfs)), 'Replace every / in the index with a -'):\n",
    "    dfs[i].index = dfs[i].index.str.replace('/', '@')"
   ]
  },
  {
   "cell_type": "code",
   "execution_count": 15,
   "metadata": {},
   "outputs": [
    {
     "data": {
      "application/vnd.jupyter.widget-view+json": {
       "model_id": "604895414e6f4ce088a0a21d26529b70",
       "version_major": 2,
       "version_minor": 0
      },
      "text/plain": [
       "Saving dataframes to json files:   0%|          | 0/7366 [00:00<?, ?it/s]"
      ]
     },
     "metadata": {},
     "output_type": "display_data"
    }
   ],
   "source": [
    "# create repo-split folder\n",
    "import os\n",
    "\n",
    "if not os.path.exists('dataset/mined-comments-25stars-25prs-JavaScript.json/repo-split'):\n",
    "    os.makedirs('dataset/mined-comments-25stars-25prs-JavaScript.json/repo-split')\n",
    "\n",
    "# saving each df to a json file with the repository name as the file name with i in the name so we know the order from the most to the least columns\n",
    "for i in tqdm(range(len(dfs)), 'Saving dataframes to json files'):\n",
    "    dfs[i].to_json('dataset/mined-comments-25stars-25prs-JavaScript.json/repo-split/' + str(i+1) + '-' + dfs[i].index[0] + '.json')"
   ]
  },
  {
   "cell_type": "code",
   "execution_count": 16,
   "metadata": {},
   "outputs": [],
   "source": [
    "# deleting the dfs variable to save memory\n",
    "del dfs"
   ]
  },
  {
   "cell_type": "markdown",
   "metadata": {},
   "source": [
    "### Data embedding and vector uploading\n",
    "`create a queue of the file names -> then spawn 10 threads -> each thread takes a file from the queue -> generates the proper datastructure/dataframe from the json file -> sends to the inference api or runs the transformer for embeddings -> takes the resulting embedding -> generates the proper datastructure to upload to a vector database (pinecone) and does so in chuncks of 100 vectors, as per the pinecone documentation -> when finished with a file save to a log.`"
   ]
  },
  {
   "cell_type": "code",
   "execution_count": 1,
   "metadata": {},
   "outputs": [],
   "source": [
    "from dotenv import load_dotenv\n",
    "import os\n",
    "\n",
    "load_dotenv()\n",
    "\n",
    "PINECONE_API_KEY = os.getenv('PINECONE_API_KEY')\n",
    "HUGGINGFACE_API_KEY = os.getenv('HUGGINGFACE_API_KEY')"
   ]
  },
  {
   "cell_type": "code",
   "execution_count": 2,
   "metadata": {},
   "outputs": [
    {
     "name": "stderr",
     "output_type": "stream",
     "text": [
      "c:\\Users\\louis\\anaconda3\\envs\\MachineLearning\\Lib\\site-packages\\pinecone\\index.py:4: TqdmExperimentalWarning: Using `tqdm.autonotebook.tqdm` in notebook mode. Use `tqdm.tqdm` instead to force console mode (e.g. in jupyter console)\n",
      "  from tqdm.autonotebook import tqdm\n"
     ]
    }
   ],
   "source": [
    "import pinecone\n",
    "\n",
    "pinecone.init(\n",
    "    api_key=str(PINECONE_API_KEY),\n",
    "    environment='gcp-starter'\n",
    ")"
   ]
  },
  {
   "cell_type": "markdown",
   "metadata": {},
   "source": [
    "#### In case we need to delete and recreate the index to start fresh"
   ]
  },
  {
   "cell_type": "code",
   "execution_count": 3,
   "metadata": {},
   "outputs": [],
   "source": [
    "# pinecone.delete_index('review-owl')"
   ]
  },
  {
   "cell_type": "code",
   "execution_count": 4,
   "metadata": {},
   "outputs": [],
   "source": [
    "# pinecone.create_index('review-owl', dimension=1024, metric='euclidean', pods=1, pod_type='starter')"
   ]
  },
  {
   "cell_type": "code",
   "execution_count": 5,
   "metadata": {},
   "outputs": [],
   "source": [
    "PINECONE_POOL_THREADS = 30\n",
    "index = pinecone.Index('review-owl', pool_threads=PINECONE_POOL_THREADS)"
   ]
  },
  {
   "cell_type": "code",
   "execution_count": 6,
   "metadata": {},
   "outputs": [
    {
     "data": {
      "text/plain": [
       "{'dimension': 1024,\n",
       " 'index_fullness': 0.0,\n",
       " 'namespaces': {},\n",
       " 'total_vector_count': 0}"
      ]
     },
     "execution_count": 6,
     "metadata": {},
     "output_type": "execute_result"
    }
   ],
   "source": [
    "index.describe_index_stats()"
   ]
  },
  {
   "cell_type": "code",
   "execution_count": 7,
   "metadata": {},
   "outputs": [],
   "source": [
    "# importing a specific repo dataset by finding all the files starting with the index number and a dash\n",
    "import glob\n",
    "\n",
    "# getting the index number from the file name\n",
    "def get_index_number(file):\n",
    "    \"\"\"A helper function to get the index number from the file name.\"\"\"\n",
    "    return int(file.split('\\\\')[1].split('-')[0])\n",
    "\n",
    "def import_filepaths(folder_path: str):\n",
    "    # getting all the files in the directory\n",
    "    file_paths = glob.glob(folder_path)\n",
    "\n",
    "    # sorting the files by the index number\n",
    "    sorted_filepaths = sorted(file_paths, key=get_index_number)\n",
    "\n",
    "    return sorted_filepaths"
   ]
  },
  {
   "cell_type": "code",
   "execution_count": 8,
   "metadata": {},
   "outputs": [],
   "source": [
    "from tqdm.auto import tqdm\n",
    "import pandas as pd\n",
    "import json\n",
    "import requests\n",
    "import time\n",
    "import random\n",
    "import itertools\n",
    "\n",
    "# API_URL = \"https://api-inference.huggingface.co/models/BAAI/bge-base-en-v1.5\"\n",
    "API_URL = \"https://api-inference.huggingface.co/models/BAAI/bge-large-en-v1.5\"\n",
    "# API_URL = \"https://api-inference.huggingface.co/models/BAAI/bge-small-en-v1.5\"\n",
    "# API_URL = \"https://api-inference.huggingface.co/models/BAAI/llm-embedder\"\n",
    "headers = {\"Authorization\": f\"Bearer {HUGGINGFACE_API_KEY}\"}\n",
    "\n",
    "def file_to_embedding_inputs(file_path: str):\n",
    "    embedding_input = []\n",
    "    \n",
    "    data = pd.read_json(file_path, orient='index')\n",
    "    for row in tqdm(data.iloc[:, 0], 'Splitting file into payloads', position=2):\n",
    "        embedding_input.append('path: ' + row['path'] + '\\n' + 'diff_hunk: ' + row['diff_hunk'])\n",
    "    \n",
    "    return embedding_input\n",
    "\n",
    "def huggingface_inference_api_request(payload: list[str]):\n",
    "    try:\n",
    "        data = json.dumps(payload)\n",
    "        response = requests.request(\"POST\", API_URL, headers=headers, data=data)\n",
    "\n",
    "        while (response.status_code != 200 and 'is currently loading' in response.content.decode(\"utf-8\")):\n",
    "            time.sleep(20)\n",
    "            print(response.content.decode(\"utf-8\"))\n",
    "            response = requests.request(\"POST\", API_URL, headers=headers, data=data)\n",
    "\n",
    "        return json.loads(response.content.decode(\"utf-8\"))\n",
    "    except Exception as e:\n",
    "        print(e)\n",
    "        return e\n",
    "\n",
    "def make_huggingface_request_with_backoff(payload: list[str]):\n",
    "    max_retries = 10\n",
    "    retries = 0\n",
    "\n",
    "    while retries < max_retries:\n",
    "        try:\n",
    "            response = huggingface_inference_api_request(payload)\n",
    "            return response\n",
    "        except requests.HTTPError as e:\n",
    "            print('HTTP error: ' + str(e.response.status_code))\n",
    "            if e.response.status_code == 503:\n",
    "                # Handle rate-limiting error\n",
    "                wait_time = (2 ** retries) + (random.uniform(0, 1) * 0.1)  # Exponential backoff with random jitter\n",
    "                time.sleep(wait_time)\n",
    "                retries += 1\n",
    "            else:\n",
    "                print('Error: ' + str(e))\n",
    "                # If it's not a 503 error, re-raise the exception\n",
    "                raise e\n",
    "        except Exception as e:\n",
    "            # Handle other exceptions\n",
    "            retries += 1\n",
    "\n",
    "    # If all retries fail\n",
    "    raise Exception(\"Max retries exceeded\")"
   ]
  },
  {
   "cell_type": "code",
   "execution_count": 9,
   "metadata": {},
   "outputs": [],
   "source": [
    "def split_into_chunks(iterable: list, batch_size=100):\n",
    "    \"\"\"A helper function to break an iterable into chunks of size batch_size.\"\"\"\n",
    "    it = iter(iterable)\n",
    "    chunks = []\n",
    "    for i in range(0, len(iterable), batch_size):\n",
    "        chunks.append(list(itertools.islice(it, batch_size)))\n",
    "\n",
    "    return chunks\n",
    "\n",
    "def pinecone_upsert_request(index, payload):\n",
    "    try:\n",
    "        data = json.dumps(payload)\n",
    "        response = requests.request(\"POST\", API_URL, headers=headers, data=data)\n",
    "        if (response.status_code != 200): raise Exception(response.json())\n",
    "        return json.loads(response.content.decode(\"utf-8\"))\n",
    "    except Exception as e:\n",
    "        print(e)\n",
    "        return e\n",
    "\n",
    "def make_pinecone_upsert_with_backoff(index, payload):\n",
    "    max_retries = 3\n",
    "    retries = 0\n",
    "\n",
    "    while retries < max_retries:\n",
    "        try:\n",
    "            pinecone_responses = pinecone_upsert_request(index, payload)\n",
    "            return pinecone_responses\n",
    "        except requests.HTTPError as e:\n",
    "            if e.response.status_code == 503:\n",
    "                # Handle rate-limiting error\n",
    "                wait_time = (2 ** retries) + (random.uniform(0, 1) * 0.1)  # Exponential backoff with random jitter\n",
    "                time.sleep(wait_time)\n",
    "                retries += 1\n",
    "            else:\n",
    "                # If it's not a 503 error, re-raise the exception\n",
    "                raise e\n",
    "        except Exception as e:\n",
    "            # Handle other exceptions\n",
    "            retries += 1\n",
    "\n",
    "    # If all retries fail\n",
    "    raise Exception(\"Max retries exceeded\")"
   ]
  },
  {
   "cell_type": "code",
   "execution_count": 10,
   "metadata": {},
   "outputs": [],
   "source": [
    "import threading\n",
    "import queue\n",
    "import hashlib\n",
    "\n",
    "def hash_id(id):\n",
    "    return hashlib.sha256(id.encode('utf-8')).hexdigest()\n",
    "\n",
    "def embed_file(file_path: str):\n",
    "    vectors_list = []\n",
    "    embedding_inputs_list = file_to_embedding_inputs(file_path)\n",
    "\n",
    "    for payload in tqdm(embedding_inputs_list, 'Generating vector embeddings', position=1):\n",
    "        vectors_list.append(make_huggingface_request_with_backoff(payload))\n",
    "    \n",
    "    return vectors_list\n",
    "\n",
    "def generate_metadata(file_path: str):\n",
    "    metadata_list = []\n",
    "    data = pd.read_json(file_path, orient='index')\n",
    "\n",
    "    for row in tqdm(data.iloc[:, 0], 'Splitting file into payloads', position=2):\n",
    "        metadata_list.append({'repo': data.columns[0],'path': row['path'], 'diff': row['diff_hunk'], 'body': row['body']})\n",
    "    \n",
    "    return metadata_list\n",
    "\n",
    "def generate_vector_ids(metadata_list: list[dict]):\n",
    "    ids = []\n",
    "    for i in tqdm(range(len(metadata_list)), 'Generating vector ids', position=2):\n",
    "        ids.append(metadata_list[i]['repo'] + '-' + hash_id(str(i)))\n",
    "    return ids\n",
    "\n",
    "def generate_upsert_data(file_path: str):\n",
    "    embedding_result = embed_file(file_path)\n",
    "    metadata_list = generate_metadata(file_path)\n",
    "    vector_ids = generate_vector_ids(metadata_list)\n",
    "\n",
    "    upsert_data = list(zip(vector_ids, embedding_result, metadata_list))\n",
    "\n",
    "    return upsert_data\n",
    "\n",
    "def worker(file_queue: queue.Queue):\n",
    "    while True:\n",
    "        file_path = file_queue.get()\n",
    "        if file_path is None:\n",
    "            break\n",
    "\n",
    "        upsert_data = generate_upsert_data(file_path)\n",
    "\n",
    "        upsert_data_chunks = split_into_chunks(upsert_data)\n",
    "\n",
    "        for chunk in tqdm(upsert_data_chunks, 'Uploading data to Pinecone', position=1):\n",
    "            index.upsert(chunk)\n",
    "        print(f\"Logging: {file_path} processed\")\n",
    "\n",
    "        file_queue.task_done()\n",
    "\n",
    "# Function to create and manage worker threads\n",
    "def create_worker_threads(num_threads: int, file_queue: queue.Queue):\n",
    "    threads = list[threading.Thread]()\n",
    "\n",
    "    for _ in range(num_threads):\n",
    "        thread = threading.Thread(target=worker, args=(file_queue,))\n",
    "        thread.start()\n",
    "        threads.append(thread)\n",
    "\n",
    "    return threads\n",
    "\n",
    "# Main function to process files using multiple threads\n",
    "def process_files_with_threads(file_names: list[str], num_threads: int, start: int = 0, end=None):\n",
    "    # Create a thread-safe queue\n",
    "    file_queue = queue.Queue()\n",
    "\n",
    "    # Populate the queue with file names\n",
    "    for file_name in file_names[start:end]:\n",
    "        file_queue.put(file_name)\n",
    "\n",
    "    # Create worker threads\n",
    "    threads = create_worker_threads(num_threads, file_queue)\n",
    "\n",
    "    # Wait for all file processing to be completed\n",
    "    file_queue.join()\n",
    "\n",
    "    # Stop the worker threads\n",
    "    for _ in range(num_threads):\n",
    "        file_queue.put(None)\n",
    "\n",
    "    for thread in threads:\n",
    "        thread.join()\n",
    "\n",
    "    print(\"All files processed.\")"
   ]
  },
  {
   "cell_type": "markdown",
   "metadata": {},
   "source": [
    "### Embedding models and processing"
   ]
  },
  {
   "cell_type": "code",
   "execution_count": 11,
   "metadata": {},
   "outputs": [],
   "source": [
    "# from sentence_transformers import SentenceTransformer\n",
    "# model = SentenceTransformer('BAAI/bge-large-en-v1.5')\n",
    "\n",
    "# # alternative embedding model to consider\n",
    "# # model = SentenceTransformer('BAAI/llm-embedder')"
   ]
  },
  {
   "cell_type": "code",
   "execution_count": 12,
   "metadata": {},
   "outputs": [
    {
     "data": {
      "application/vnd.jupyter.widget-view+json": {
       "model_id": "f0c53f7477d34b4ca6399e5cc7e6bcc5",
       "version_major": 2,
       "version_minor": 0
      },
      "text/plain": [
       "Splitting file into payloads:   0%|          | 0/8230 [00:00<?, ?it/s]"
      ]
     },
     "metadata": {},
     "output_type": "display_data"
    },
    {
     "data": {
      "application/vnd.jupyter.widget-view+json": {
       "model_id": "3d63588869ff461ea457b9775f005546",
       "version_major": 2,
       "version_minor": 0
      },
      "text/plain": [
       "Splitting file into payloads:   0%|          | 0/7108 [00:00<?, ?it/s]"
      ]
     },
     "metadata": {},
     "output_type": "display_data"
    },
    {
     "data": {
      "application/vnd.jupyter.widget-view+json": {
       "model_id": "1893b8bdf3224a42a272e12a1dcfdebe",
       "version_major": 2,
       "version_minor": 0
      },
      "text/plain": [
       "Splitting file into payloads:   0%|          | 0/7202 [00:00<?, ?it/s]"
      ]
     },
     "metadata": {},
     "output_type": "display_data"
    },
    {
     "data": {
      "application/vnd.jupyter.widget-view+json": {
       "model_id": "e2daf67ed25544cf8b0e1a90c36a3f8d",
       "version_major": 2,
       "version_minor": 0
      },
      "text/plain": [
       "Splitting file into payloads:   0%|          | 0/8545 [00:00<?, ?it/s]"
      ]
     },
     "metadata": {},
     "output_type": "display_data"
    },
    {
     "data": {
      "application/vnd.jupyter.widget-view+json": {
       "model_id": "41646d6580874dc0bdcb459cf8b01288",
       "version_major": 2,
       "version_minor": 0
      },
      "text/plain": [
       "Splitting file into payloads:   0%|          | 0/7324 [00:00<?, ?it/s]"
      ]
     },
     "metadata": {},
     "output_type": "display_data"
    },
    {
     "data": {
      "application/vnd.jupyter.widget-view+json": {
       "model_id": "e9f1e4c34df840ec9e53e79923b25ce8",
       "version_major": 2,
       "version_minor": 0
      },
      "text/plain": [
       "Splitting file into payloads:   0%|          | 0/7695 [00:00<?, ?it/s]"
      ]
     },
     "metadata": {},
     "output_type": "display_data"
    },
    {
     "data": {
      "application/vnd.jupyter.widget-view+json": {
       "model_id": "01b97aa68846421ca060215cc09d0d8a",
       "version_major": 2,
       "version_minor": 0
      },
      "text/plain": [
       "Splitting file into payloads:   0%|          | 0/6430 [00:00<?, ?it/s]"
      ]
     },
     "metadata": {},
     "output_type": "display_data"
    },
    {
     "data": {
      "application/vnd.jupyter.widget-view+json": {
       "model_id": "61965b8b753c413fb526eb2b2e22af1d",
       "version_major": 2,
       "version_minor": 0
      },
      "text/plain": [
       "Splitting file into payloads:   0%|          | 0/8576 [00:00<?, ?it/s]"
      ]
     },
     "metadata": {},
     "output_type": "display_data"
    },
    {
     "data": {
      "application/vnd.jupyter.widget-view+json": {
       "model_id": "959c918eceaf4298990d4a3b673e6b35",
       "version_major": 2,
       "version_minor": 0
      },
      "text/plain": [
       "Splitting file into payloads:   0%|          | 0/7373 [00:00<?, ?it/s]"
      ]
     },
     "metadata": {},
     "output_type": "display_data"
    },
    {
     "data": {
      "application/vnd.jupyter.widget-view+json": {
       "model_id": "fbe8401ddad5428abe109d7cc0917163",
       "version_major": 2,
       "version_minor": 0
      },
      "text/plain": [
       "Splitting file into payloads:   0%|          | 0/5932 [00:00<?, ?it/s]"
      ]
     },
     "metadata": {},
     "output_type": "display_data"
    },
    {
     "data": {
      "application/vnd.jupyter.widget-view+json": {
       "model_id": "42cf291e8be546f0a69822bea441c963",
       "version_major": 2,
       "version_minor": 0
      },
      "text/plain": [
       "Splitting file into payloads:   0%|          | 0/6931 [00:00<?, ?it/s]"
      ]
     },
     "metadata": {},
     "output_type": "display_data"
    },
    {
     "data": {
      "application/vnd.jupyter.widget-view+json": {
       "model_id": "a8a58b82885a4e6bad484efa01c1c11a",
       "version_major": 2,
       "version_minor": 0
      },
      "text/plain": [
       "Splitting file into payloads:   0%|          | 0/7429 [00:00<?, ?it/s]"
      ]
     },
     "metadata": {},
     "output_type": "display_data"
    },
    {
     "data": {
      "application/vnd.jupyter.widget-view+json": {
       "model_id": "4fe6bf0b4d4b4fd8a79d4df7559cc22c",
       "version_major": 2,
       "version_minor": 0
      },
      "text/plain": [
       "Splitting file into payloads:   0%|          | 0/8146 [00:00<?, ?it/s]"
      ]
     },
     "metadata": {},
     "output_type": "display_data"
    },
    {
     "data": {
      "application/vnd.jupyter.widget-view+json": {
       "model_id": "2585394f9a784bbeb6bb666a8aa9a014",
       "version_major": 2,
       "version_minor": 0
      },
      "text/plain": [
       "Splitting file into payloads:   0%|          | 0/9083 [00:00<?, ?it/s]"
      ]
     },
     "metadata": {},
     "output_type": "display_data"
    },
    {
     "data": {
      "application/vnd.jupyter.widget-view+json": {
       "model_id": "d0ab3c78c8dd4466a96871b97df08074",
       "version_major": 2,
       "version_minor": 0
      },
      "text/plain": [
       "Splitting file into payloads:   0%|          | 0/9224 [00:00<?, ?it/s]"
      ]
     },
     "metadata": {},
     "output_type": "display_data"
    },
    {
     "data": {
      "application/vnd.jupyter.widget-view+json": {
       "model_id": "bfec5fde58b04841a7ede1a22a56927c",
       "version_major": 2,
       "version_minor": 0
      },
      "text/plain": [
       "Splitting file into payloads:   0%|          | 0/7237 [00:00<?, ?it/s]"
      ]
     },
     "metadata": {},
     "output_type": "display_data"
    },
    {
     "data": {
      "application/vnd.jupyter.widget-view+json": {
       "model_id": "47538d14c1a14cb080a09fa1e0461a48",
       "version_major": 2,
       "version_minor": 0
      },
      "text/plain": [
       "Splitting file into payloads:   0%|          | 0/6894 [00:00<?, ?it/s]"
      ]
     },
     "metadata": {},
     "output_type": "display_data"
    },
    {
     "data": {
      "application/vnd.jupyter.widget-view+json": {
       "model_id": "6ae1bca2d8fd48eaa70ce711a2cdc170",
       "version_major": 2,
       "version_minor": 0
      },
      "text/plain": [
       "Splitting file into payloads:   0%|          | 0/7091 [00:00<?, ?it/s]"
      ]
     },
     "metadata": {},
     "output_type": "display_data"
    },
    {
     "data": {
      "application/vnd.jupyter.widget-view+json": {
       "model_id": "5719270470864c9b992673544813da30",
       "version_major": 2,
       "version_minor": 0
      },
      "text/plain": [
       "Splitting file into payloads:   0%|          | 0/8032 [00:00<?, ?it/s]"
      ]
     },
     "metadata": {},
     "output_type": "display_data"
    },
    {
     "data": {
      "application/vnd.jupyter.widget-view+json": {
       "model_id": "83939b8a032a4fa78d1e309a0cb20337",
       "version_major": 2,
       "version_minor": 0
      },
      "text/plain": [
       "Splitting file into payloads:   0%|          | 0/6224 [00:00<?, ?it/s]"
      ]
     },
     "metadata": {},
     "output_type": "display_data"
    },
    {
     "data": {
      "application/vnd.jupyter.widget-view+json": {
       "model_id": "c8a9847401764722a0e96832fc112777",
       "version_major": 2,
       "version_minor": 0
      },
      "text/plain": [
       "Splitting file into payloads:   0%|          | 0/7098 [00:00<?, ?it/s]"
      ]
     },
     "metadata": {},
     "output_type": "display_data"
    },
    {
     "data": {
      "application/vnd.jupyter.widget-view+json": {
       "model_id": "5607b1f02f7747d1b9b863e6b92c0c5a",
       "version_major": 2,
       "version_minor": 0
      },
      "text/plain": [
       "Splitting file into payloads:   0%|          | 0/8037 [00:00<?, ?it/s]"
      ]
     },
     "metadata": {},
     "output_type": "display_data"
    },
    {
     "data": {
      "application/vnd.jupyter.widget-view+json": {
       "model_id": "05cc60d5b1c8429ea5e2ec69b9bb6186",
       "version_major": 2,
       "version_minor": 0
      },
      "text/plain": [
       "Splitting file into payloads:   0%|          | 0/7874 [00:00<?, ?it/s]"
      ]
     },
     "metadata": {},
     "output_type": "display_data"
    },
    {
     "data": {
      "application/vnd.jupyter.widget-view+json": {
       "model_id": "436955e486a6472c9d363a2b7365fc49",
       "version_major": 2,
       "version_minor": 0
      },
      "text/plain": [
       "Splitting file into payloads:   0%|          | 0/8859 [00:00<?, ?it/s]"
      ]
     },
     "metadata": {},
     "output_type": "display_data"
    },
    {
     "data": {
      "application/vnd.jupyter.widget-view+json": {
       "model_id": "2e54c564241f41aa8fdd21b482172bb6",
       "version_major": 2,
       "version_minor": 0
      },
      "text/plain": [
       "Splitting file into payloads:   0%|          | 0/7221 [00:00<?, ?it/s]"
      ]
     },
     "metadata": {},
     "output_type": "display_data"
    },
    {
     "data": {
      "application/vnd.jupyter.widget-view+json": {
       "model_id": "d2b49f23438f4f918a67f52c5abed1c9",
       "version_major": 2,
       "version_minor": 0
      },
      "text/plain": [
       "Splitting file into payloads:   0%|          | 0/7454 [00:00<?, ?it/s]"
      ]
     },
     "metadata": {},
     "output_type": "display_data"
    },
    {
     "data": {
      "application/vnd.jupyter.widget-view+json": {
       "model_id": "800b944ff8f34d6f99ef49ab2d74c905",
       "version_major": 2,
       "version_minor": 0
      },
      "text/plain": [
       "Splitting file into payloads:   0%|          | 0/7083 [00:00<?, ?it/s]"
      ]
     },
     "metadata": {},
     "output_type": "display_data"
    },
    {
     "data": {
      "application/vnd.jupyter.widget-view+json": {
       "model_id": "d58e73dabf3d4f0ab6459cd9d9a8ed57",
       "version_major": 2,
       "version_minor": 0
      },
      "text/plain": [
       "Splitting file into payloads:   0%|          | 0/7524 [00:00<?, ?it/s]"
      ]
     },
     "metadata": {},
     "output_type": "display_data"
    },
    {
     "data": {
      "application/vnd.jupyter.widget-view+json": {
       "model_id": "2f9f01b811d849cabf73dd3de0fe13c6",
       "version_major": 2,
       "version_minor": 0
      },
      "text/plain": [
       "Splitting file into payloads:   0%|          | 0/8081 [00:00<?, ?it/s]"
      ]
     },
     "metadata": {},
     "output_type": "display_data"
    },
    {
     "data": {
      "application/vnd.jupyter.widget-view+json": {
       "model_id": "d7894d5652714f198aefef8360b0c556",
       "version_major": 2,
       "version_minor": 0
      },
      "text/plain": [
       "Splitting file into payloads:   0%|          | 0/6813 [00:00<?, ?it/s]"
      ]
     },
     "metadata": {},
     "output_type": "display_data"
    },
    {
     "data": {
      "application/vnd.jupyter.widget-view+json": {
       "model_id": "ed510fe48a7c46efb10c823a3b2f9bca",
       "version_major": 2,
       "version_minor": 0
      },
      "text/plain": [
       "Generating vector embeddings:   0%|          | 0/7202 [00:00<?, ?it/s]"
      ]
     },
     "metadata": {},
     "output_type": "display_data"
    },
    {
     "data": {
      "application/vnd.jupyter.widget-view+json": {
       "model_id": "dceee2f0f4474a59a08ad87c8871428f",
       "version_major": 2,
       "version_minor": 0
      },
      "text/plain": [
       "Generating vector embeddings:   0%|          | 0/8081 [00:00<?, ?it/s]"
      ]
     },
     "metadata": {},
     "output_type": "display_data"
    },
    {
     "data": {
      "application/vnd.jupyter.widget-view+json": {
       "model_id": "bac787fa498a405aa8cab2093509f64e",
       "version_major": 2,
       "version_minor": 0
      },
      "text/plain": [
       "Generating vector embeddings:   0%|          | 0/9224 [00:00<?, ?it/s]"
      ]
     },
     "metadata": {},
     "output_type": "display_data"
    },
    {
     "data": {
      "application/vnd.jupyter.widget-view+json": {
       "model_id": "ad10d7a358554e089ebf562b6269c84c",
       "version_major": 2,
       "version_minor": 0
      },
      "text/plain": [
       "Generating vector embeddings:   0%|          | 0/8230 [00:00<?, ?it/s]"
      ]
     },
     "metadata": {},
     "output_type": "display_data"
    },
    {
     "data": {
      "application/vnd.jupyter.widget-view+json": {
       "model_id": "4623b332c29c4886a28567953feb9db6",
       "version_major": 2,
       "version_minor": 0
      },
      "text/plain": [
       "Generating vector embeddings:   0%|          | 0/6894 [00:00<?, ?it/s]"
      ]
     },
     "metadata": {},
     "output_type": "display_data"
    },
    {
     "data": {
      "application/vnd.jupyter.widget-view+json": {
       "model_id": "8ac82a8dae42400bba6cc0be9fa8fb2b",
       "version_major": 2,
       "version_minor": 0
      },
      "text/plain": [
       "Generating vector embeddings:   0%|          | 0/8146 [00:00<?, ?it/s]"
      ]
     },
     "metadata": {},
     "output_type": "display_data"
    },
    {
     "data": {
      "application/vnd.jupyter.widget-view+json": {
       "model_id": "166ac8f117084c8ab663112bfe55a6fa",
       "version_major": 2,
       "version_minor": 0
      },
      "text/plain": [
       "Generating vector embeddings:   0%|          | 0/7524 [00:00<?, ?it/s]"
      ]
     },
     "metadata": {},
     "output_type": "display_data"
    },
    {
     "data": {
      "application/vnd.jupyter.widget-view+json": {
       "model_id": "ed6bda1546f74339a72dec6221820b90",
       "version_major": 2,
       "version_minor": 0
      },
      "text/plain": [
       "Generating vector embeddings:   0%|          | 0/6931 [00:00<?, ?it/s]"
      ]
     },
     "metadata": {},
     "output_type": "display_data"
    },
    {
     "data": {
      "application/vnd.jupyter.widget-view+json": {
       "model_id": "4a44301a0cb34430ac4d60a02d0bb0d8",
       "version_major": 2,
       "version_minor": 0
      },
      "text/plain": [
       "Generating vector embeddings:   0%|          | 0/5932 [00:00<?, ?it/s]"
      ]
     },
     "metadata": {},
     "output_type": "display_data"
    },
    {
     "data": {
      "application/vnd.jupyter.widget-view+json": {
       "model_id": "0c38107daecd44d79f957d3be2db1d3b",
       "version_major": 2,
       "version_minor": 0
      },
      "text/plain": [
       "Generating vector embeddings:   0%|          | 0/7874 [00:00<?, ?it/s]"
      ]
     },
     "metadata": {},
     "output_type": "display_data"
    },
    {
     "data": {
      "application/vnd.jupyter.widget-view+json": {
       "model_id": "0e9540bdd7094a9e99168b7d7cc520bd",
       "version_major": 2,
       "version_minor": 0
      },
      "text/plain": [
       "Generating vector embeddings:   0%|          | 0/7373 [00:00<?, ?it/s]"
      ]
     },
     "metadata": {},
     "output_type": "display_data"
    },
    {
     "data": {
      "application/vnd.jupyter.widget-view+json": {
       "model_id": "1c720ea2566a4795b8f6b86132883811",
       "version_major": 2,
       "version_minor": 0
      },
      "text/plain": [
       "Generating vector embeddings:   0%|          | 0/7221 [00:00<?, ?it/s]"
      ]
     },
     "metadata": {},
     "output_type": "display_data"
    },
    {
     "data": {
      "application/vnd.jupyter.widget-view+json": {
       "model_id": "25962f6ee3f8453faffc92154d7ace41",
       "version_major": 2,
       "version_minor": 0
      },
      "text/plain": [
       "Generating vector embeddings:   0%|          | 0/8576 [00:00<?, ?it/s]"
      ]
     },
     "metadata": {},
     "output_type": "display_data"
    },
    {
     "data": {
      "application/vnd.jupyter.widget-view+json": {
       "model_id": "cbb3493f9b7f4c76a6cb3cd57ff6d690",
       "version_major": 2,
       "version_minor": 0
      },
      "text/plain": [
       "Generating vector embeddings:   0%|          | 0/7429 [00:00<?, ?it/s]"
      ]
     },
     "metadata": {},
     "output_type": "display_data"
    },
    {
     "data": {
      "application/vnd.jupyter.widget-view+json": {
       "model_id": "156ea78757754e4c835a42127a29b10d",
       "version_major": 2,
       "version_minor": 0
      },
      "text/plain": [
       "Generating vector embeddings:   0%|          | 0/6430 [00:00<?, ?it/s]"
      ]
     },
     "metadata": {},
     "output_type": "display_data"
    },
    {
     "data": {
      "application/vnd.jupyter.widget-view+json": {
       "model_id": "65257372a8b34d5c8a068e97bdec9210",
       "version_major": 2,
       "version_minor": 0
      },
      "text/plain": [
       "Generating vector embeddings:   0%|          | 0/7108 [00:00<?, ?it/s]"
      ]
     },
     "metadata": {},
     "output_type": "display_data"
    },
    {
     "data": {
      "application/vnd.jupyter.widget-view+json": {
       "model_id": "3b4c3cc3096a4bafa500a94c7d303d90",
       "version_major": 2,
       "version_minor": 0
      },
      "text/plain": [
       "Generating vector embeddings:   0%|          | 0/7237 [00:00<?, ?it/s]"
      ]
     },
     "metadata": {},
     "output_type": "display_data"
    },
    {
     "data": {
      "application/vnd.jupyter.widget-view+json": {
       "model_id": "17576697dde64a74909e7cf8fc6b5402",
       "version_major": 2,
       "version_minor": 0
      },
      "text/plain": [
       "Generating vector embeddings:   0%|          | 0/8032 [00:00<?, ?it/s]"
      ]
     },
     "metadata": {},
     "output_type": "display_data"
    },
    {
     "data": {
      "application/vnd.jupyter.widget-view+json": {
       "model_id": "ad234bbc818141c082fd116302976de1",
       "version_major": 2,
       "version_minor": 0
      },
      "text/plain": [
       "Generating vector embeddings:   0%|          | 0/8859 [00:00<?, ?it/s]"
      ]
     },
     "metadata": {},
     "output_type": "display_data"
    },
    {
     "data": {
      "application/vnd.jupyter.widget-view+json": {
       "model_id": "451c7b0b0dc34f68afeb5592771a8d3e",
       "version_major": 2,
       "version_minor": 0
      },
      "text/plain": [
       "Generating vector embeddings:   0%|          | 0/8037 [00:00<?, ?it/s]"
      ]
     },
     "metadata": {},
     "output_type": "display_data"
    },
    {
     "data": {
      "application/vnd.jupyter.widget-view+json": {
       "model_id": "07e38e9cfb1d4feba496ee445828536c",
       "version_major": 2,
       "version_minor": 0
      },
      "text/plain": [
       "Generating vector embeddings:   0%|          | 0/8545 [00:00<?, ?it/s]"
      ]
     },
     "metadata": {},
     "output_type": "display_data"
    },
    {
     "data": {
      "application/vnd.jupyter.widget-view+json": {
       "model_id": "113c6ea1f10b4c95a7884d75d4a218a6",
       "version_major": 2,
       "version_minor": 0
      },
      "text/plain": [
       "Generating vector embeddings:   0%|          | 0/7695 [00:00<?, ?it/s]"
      ]
     },
     "metadata": {},
     "output_type": "display_data"
    },
    {
     "data": {
      "application/vnd.jupyter.widget-view+json": {
       "model_id": "fee18d5cc2c04f7d916484c6d7cd300b",
       "version_major": 2,
       "version_minor": 0
      },
      "text/plain": [
       "Generating vector embeddings:   0%|          | 0/9083 [00:00<?, ?it/s]"
      ]
     },
     "metadata": {},
     "output_type": "display_data"
    },
    {
     "data": {
      "application/vnd.jupyter.widget-view+json": {
       "model_id": "0558c88825c443de83a74a0117499a3c",
       "version_major": 2,
       "version_minor": 0
      },
      "text/plain": [
       "Generating vector embeddings:   0%|          | 0/7324 [00:00<?, ?it/s]"
      ]
     },
     "metadata": {},
     "output_type": "display_data"
    },
    {
     "data": {
      "application/vnd.jupyter.widget-view+json": {
       "model_id": "e37978a710e5420a8326ec7220034956",
       "version_major": 2,
       "version_minor": 0
      },
      "text/plain": [
       "Generating vector embeddings:   0%|          | 0/7454 [00:00<?, ?it/s]"
      ]
     },
     "metadata": {},
     "output_type": "display_data"
    },
    {
     "data": {
      "application/vnd.jupyter.widget-view+json": {
       "model_id": "4ce00ba26ce14ed9a0ffb8f94d056608",
       "version_major": 2,
       "version_minor": 0
      },
      "text/plain": [
       "Generating vector embeddings:   0%|          | 0/7098 [00:00<?, ?it/s]"
      ]
     },
     "metadata": {},
     "output_type": "display_data"
    },
    {
     "data": {
      "application/vnd.jupyter.widget-view+json": {
       "model_id": "f1e9b1f0a6e3481fa8d68438d7e09cea",
       "version_major": 2,
       "version_minor": 0
      },
      "text/plain": [
       "Generating vector embeddings:   0%|          | 0/7091 [00:00<?, ?it/s]"
      ]
     },
     "metadata": {},
     "output_type": "display_data"
    },
    {
     "data": {
      "application/vnd.jupyter.widget-view+json": {
       "model_id": "51dd5d316a9e443c86a2ebf05e618d63",
       "version_major": 2,
       "version_minor": 0
      },
      "text/plain": [
       "Generating vector embeddings:   0%|          | 0/6224 [00:00<?, ?it/s]"
      ]
     },
     "metadata": {},
     "output_type": "display_data"
    },
    {
     "data": {
      "application/vnd.jupyter.widget-view+json": {
       "model_id": "dee02ce625b44c0ea8a77ef6034f02ad",
       "version_major": 2,
       "version_minor": 0
      },
      "text/plain": [
       "Generating vector embeddings:   0%|          | 0/7083 [00:00<?, ?it/s]"
      ]
     },
     "metadata": {},
     "output_type": "display_data"
    },
    {
     "data": {
      "application/vnd.jupyter.widget-view+json": {
       "model_id": "8cc34bd32ee4488aa90ba9ef1dd7b4ae",
       "version_major": 2,
       "version_minor": 0
      },
      "text/plain": [
       "Generating vector embeddings:   0%|          | 0/6813 [00:00<?, ?it/s]"
      ]
     },
     "metadata": {},
     "output_type": "display_data"
    }
   ],
   "source": [
    "file_paths = import_filepaths('dataset/mined-comments-25stars-25prs-JavaScript.json/repo-split/*.json')\n",
    "process_files_with_threads(file_names=file_paths, num_threads=PINECONE_POOL_THREADS)"
   ]
  },
  {
   "cell_type": "code",
   "execution_count": null,
   "metadata": {},
   "outputs": [],
   "source": [
    "index.describe_index_stats()"
   ]
  }
 ],
 "metadata": {
  "kernelspec": {
   "display_name": "MachineLearning",
   "language": "python",
   "name": "python3"
  },
  "language_info": {
   "codemirror_mode": {
    "name": "ipython",
    "version": 3
   },
   "file_extension": ".py",
   "mimetype": "text/x-python",
   "name": "python",
   "nbconvert_exporter": "python",
   "pygments_lexer": "ipython3",
   "version": "3.11.2"
  }
 },
 "nbformat": 4,
 "nbformat_minor": 2
}
