{
 "cells": [
  {
   "cell_type": "markdown",
   "metadata": {},
   "source": [
    "# Data embedding, vector uploading and PR info mapping\n",
    "## Data pipeline\n",
    "The task of this notebook is to ingest each Pull Request(PR) in the subdatasets, upload the relevant content to a Database, embed it using a feature extraction model, upload it to a vector database, and map the PR content to the corresponding vector for Retrieval Augmented Generation (RAG).\n",
    "Given the size of the overall dataset (over 30GB), this notebook will focus on the JavaScript portion of the dataset as a proof of concept.\n",
    "\n",
    "`create a queue of the file names -> then spawn N threads -> each thread takes a file from the queue -> generates the proper datastructure/dataframe from the json file -> sends to the inference api (or runs the transformer locally) for embeddings -> takes the resulting embedding -> generates the proper datastructure to upload to a vector database (pinecone) and does so in chuncks of 100 vectors, as per the pinecone documentation -> upload the corresponding PR info to another Database mapping for the VectorID -> when finished with a file save to a log -> repeat.`"
   ]
  },
  {
   "cell_type": "markdown",
   "metadata": {},
   "source": [
    "### Loading API keys and other secrets"
   ]
  },
  {
   "cell_type": "code",
   "execution_count": 2,
   "metadata": {},
   "outputs": [],
   "source": [
    "from dotenv import load_dotenv\n",
    "import os\n",
    "import logging\n",
    "\n",
    "logging.basicConfig(filename='embedding_progress.log', level=logging.INFO, format='%(asctime)s - %(levelname)s - %(message)s')\n",
    "\n",
    "load_dotenv()\n",
    "\n",
    "PINECONE_API_KEY = os.getenv('PINECONE_API_KEY')\n",
    "HUGGINGFACE_API_KEY = os.getenv('HUGGINGFACE_API_KEY')\n",
    "POSTGRESQL_USER = os.getenv('POSTGRESQL_USER')\n",
    "POSTGRESQL_PASSWORD = os.getenv('POSTGRESQL_PASSWORD')"
   ]
  },
  {
   "cell_type": "markdown",
   "metadata": {},
   "source": [
    "### Connect to the PostgreSQL Database"
   ]
  },
  {
   "cell_type": "code",
   "execution_count": 3,
   "metadata": {},
   "outputs": [],
   "source": [
    "import psycopg2 as pg\n",
    "\n",
    "conn = pg.connect(\n",
    "    dbname=\"postgres\",\n",
    "    user=POSTGRESQL_USER,\n",
    "    password=POSTGRESQL_PASSWORD,\n",
    "    host=\"localhost\",\n",
    "    port=\"5432\"\n",
    ")\n",
    "conn.autocommit = True\n",
    "\n",
    "# Create a cursor object for SQL operations.\n",
    "cur = conn.cursor()"
   ]
  },
  {
   "cell_type": "code",
   "execution_count": 4,
   "metadata": {},
   "outputs": [
    {
     "data": {
      "text/plain": [
       "('PostgreSQL 16.0, compiled by Visual C++ build 1935, 64-bit',)"
      ]
     },
     "execution_count": 4,
     "metadata": {},
     "output_type": "execute_result"
    }
   ],
   "source": [
    "# test connection\n",
    "cur.execute(\"SELECT version();\")\n",
    "cur.fetchone()"
   ]
  },
  {
   "cell_type": "code",
   "execution_count": 5,
   "metadata": {},
   "outputs": [],
   "source": [
    "cur.execute(\"ROLLBACK\")\n",
    "conn.commit()"
   ]
  },
  {
   "cell_type": "markdown",
   "metadata": {},
   "source": [
    "### Create a database for the project"
   ]
  },
  {
   "cell_type": "code",
   "execution_count": 6,
   "metadata": {},
   "outputs": [],
   "source": [
    "# Check if the database already exists, and create it if not.\n",
    "cur.execute(\"SELECT 1 FROM pg_catalog.pg_database WHERE datname = 'review_owl';\")\n",
    "exists = cur.fetchall()\n",
    "\n",
    "if not exists:\n",
    "    logging.info(\"Creating database\")\n",
    "    cur.execute(\"CREATE DATABASE review_owl;\")\n",
    "    conn.commit()\n",
    "\n",
    "conn.close()"
   ]
  },
  {
   "cell_type": "markdown",
   "metadata": {},
   "source": [
    "### Connect to the project database"
   ]
  },
  {
   "cell_type": "code",
   "execution_count": 7,
   "metadata": {},
   "outputs": [],
   "source": [
    "# Switch to the new database.\n",
    "conn = pg.connect(\n",
    "    dbname=\"review_owl\",\n",
    "    user=POSTGRESQL_USER,\n",
    "    password=POSTGRESQL_PASSWORD,\n",
    "    host=\"localhost\",\n",
    "    port=\"5432\"\n",
    ")\n",
    "conn.autocommit = True\n",
    "\n",
    "# Create a cursor object for SQL operations.\n",
    "cur = conn.cursor()"
   ]
  },
  {
   "cell_type": "markdown",
   "metadata": {},
   "source": [
    "### Create a Table for PR Information"
   ]
  },
  {
   "cell_type": "code",
   "execution_count": 8,
   "metadata": {},
   "outputs": [],
   "source": [
    "# Check if the table already exists, and create it if not.\n",
    "cur.execute(\"\"\"\n",
    "    CREATE TABLE IF NOT EXISTS pr_info (\n",
    "        pr_vector_id TEXT PRIMARY KEY,\n",
    "        pr_id INT UNIQUE,\n",
    "        pr_repo_name TEXT,\n",
    "        pr_html_url TEXT,\n",
    "        pr_file_path TEXT,\n",
    "        pr_line INT,\n",
    "        pr_user TEXT,\n",
    "        pr_diff_hunk TEXT,\n",
    "        pr_body TEXT,\n",
    "        pr_commit_id TEXT,\n",
    "        pr_language TEXT\n",
    "    );\n",
    "\"\"\")\n",
    "\n",
    "conn.commit()"
   ]
  },
  {
   "cell_type": "markdown",
   "metadata": {},
   "source": [
    "### Function for inserting and updating rows"
   ]
  },
  {
   "cell_type": "code",
   "execution_count": 9,
   "metadata": {},
   "outputs": [],
   "source": [
    "# Function to insert or update rows in the pr_info table.\n",
    "def insert_or_update_pr_info(vector_id: str, pr_id: int, repo_name: str, html_url: str, file_path: str, line: int, user: str, diff_hunk: str, body: str, commit_id: str, language: str):\n",
    "    try:\n",
    "        cur.execute(\"\"\"\n",
    "            INSERT INTO pr_info (pr_vector_id, pr_id, pr_repo_name, pr_html_url, pr_file_path, pr_line, pr_user, pr_diff_hunk, pr_body, pr_commit_id, pr_language)\n",
    "            VALUES (%s, %s, %s, %s, %s, %s, %s, %s, %s, %s, %s)\n",
    "            ON CONFLICT (pr_vector_id)\n",
    "            DO UPDATE SET\n",
    "                pr_id = EXCLUDED.pr_id,\n",
    "                pr_repo_name = EXCLUDED.pr_repo_name,\n",
    "                pr_html_url = EXCLUDED.pr_html_url,\n",
    "                pr_file_path = EXCLUDED.pr_file_path,\n",
    "                pr_line = EXCLUDED.pr_line,\n",
    "                pr_user = EXCLUDED.pr_user,\n",
    "                pr_diff_hunk = EXCLUDED.pr_diff_hunk,\n",
    "                pr_body = EXCLUDED.pr_body,\n",
    "                pr_commit_id = EXCLUDED.pr_commit_id,\n",
    "                pr_language = EXCLUDED.pr_language;;\n",
    "        \"\"\", (vector_id, pr_id, repo_name, html_url, file_path, line, user, diff_hunk, body, commit_id, language))\n",
    "        conn.commit()\n",
    "        return True\n",
    "    except Exception as e:\n",
    "        conn.rollback()\n",
    "        logging.error(e)\n",
    "        return False"
   ]
  },
  {
   "cell_type": "code",
   "execution_count": 10,
   "metadata": {},
   "outputs": [],
   "source": [
    "# test insert\n",
    "# insert_or_update_pr_info(\"\", 44735997, \"plotly@plotly.js\", \"https://github.com/plotly/plotly.js/pull/1#discussion_r44735997\", \"devtools/test_dashboard/server.js\", 36, \"etpinard\", \"@@ -1,89 +1,53 @@\\n-var http = require('http');\\n-var ecstatic = require('ecstatic');\\n-var browserify = require('browserify');\\n-var open = require('open');\\n var fs = require('fs');\\n-var watchify = require('watchify');\\n+var http = require('http');\\n var path = require('path');\\n-var outpipe = require('outpipe');\\n-var outfile = path.join(__dirname, '../shelly/plotlyjs/static/plotlyjs/build/plotlyjs-bundle.js');\\n-\\n-var testFile = './test';\\n-\\n-switch(process.argv[2]) {\\n-  case 'geo':\\n-    testFile = './test-geo';\\n-  break;\\n-  case '2d':\\n-    testFile = './test-2d';\\n-  break;\\n-}\\n-\\n-console.log('using ' + testFile);\\n-\\n-var b = browserify(path.join(__dirname, '../shelly/plotlyjs/static/plotlyjs/src/plotly.js'), {\\n-  debug: true,\\n-  verbose: true,\\n-  standalone: 'Plotly',\\n-  transform: path.join(__dirname, '../shelly/plotlyjs/static/plotlyjs/compress_attributes.js'),\\n-  cache: {},\\n-  packageCache: {}\\n-});\\n-\\n-\\n-var w = watchify(b);\\n \\n-var bytes, time;\\n-w.on('bytes', function (b) { bytes = b });\\n-w.on('time', function (t) { time = t });\\n-\\n-w.on('update', bundle);\\n-bundle();\\n+var browserify = require('browserify');\\n+var ecstatic = require('ecstatic');\\n+var _open = require('open');\\n \\n-var firstBundle = true;\\n+var makeWatchifiedBundle = require('../../tasks/util/make_watchified_bundle');\\n+var shortcutPaths = require('../../tasks/util/shortcut_paths');\\n+var constants = require('../../tasks/util/constants');\\n \\n-function bundle () {\\n-    var didError = false;\\n-    var outStream = process.platform === 'win32'\\n-        ? fs.createWriteStream(outfile)\\n-        : outpipe(outfile);\\n \\n-    var wb = w.bundle();\\n-    wb.on('error', function (err) {\\n-        console.error(String(err));\\n-        didError = true;\\n-        outStream.end('console.error('+JSON.stringify(String(err))+');');\\n-    });\\n-    wb.pipe(outStream);\\n+// TODO make this an optional argument\\n+var PORT = '8080';\\n \\n-    outStream.on('error', function (err) {\\n-        console.error(err);\\n-    });\\n-    outStream.on('close', function () {\\n-        if (!didError) {\\n-            console.error(bytes + ' bytes written to ' + outfile\\n-                + ' (' + (time / 1000).toFixed(2) + ' seconds)'\\n-            );\\n-            if(firstBundle) {\\n-              open('http://localhost:8080/test-dashboard');\\n-              firstBundle = false;\\n-            }\\n-        }\\n-    });\\n+var testFile;\\n+switch(process.argv[2]) {\\n+    case 'geo':\\n+        testFile = './test-geo';\\n+    break;\\n+    case '2d':\\n+        testFile = './test-2d';\\n+    break;\\n+    default:\\n+        testFile = './test-3d';\\n }\\n \\n-////// build the test examples\\n+console.log('Using ' + testFile);\\n+console.log('Listening on :' + PORT + '\\\\n');\\n \\n-fs.unlink('./test-bundle.js', function(error) {\\n-    browserify({\\n+// watch plotly.js\\n+var watchifiedBundle = makeWatchifiedBundle(function onFirstBundleCallback() {\\n+    _open('http://localhost:' + PORT + '/devtools/test_dashboard');\\n+});\\n+watchifiedBundle();\", \"the test dashboard server script uses the same watch-bundling machinery as `npm run watch` \\n:palm_tree: :palm_tree: \\n\", \"2abf31f5cb19b7cca9a4944ee506fe716ec44442\", \"JavaScript\")"
   ]
  },
  {
   "cell_type": "code",
   "execution_count": 11,
   "metadata": {},
   "outputs": [],
   "source": [
    "def get_pr_info_by_vector_ids(vector_ids: list[str]):\n",
    "    placeholders = ', '.join(['%s' for _ in vector_ids])\n",
    "\n",
    "    sql = f\"SELECT * FROM pr_info WHERE vector_id IN ({placeholders})\"\n",
    "\n",
    "    cur.execute(sql, vector_ids)\n",
    "\n",
    "    results = cur.fetchall()\n",
    "\n",
    "    pr_info_list = []\n",
    "    for result in results:\n",
    "        pr_vector_id, pr_id, pr_repo_name, pr_html_url, pr_file_path, pr_line, pr_user, pr_diff_hunk, pr_body, pr_commit_id, pr_language = result\n",
    "        pr_info_list.append({\n",
    "            \"vector_id\": pr_vector_id,\n",
    "            \"id\": pr_id,\n",
    "            \"repo_name\": pr_repo_name,\n",
    "            \"html_url\": pr_html_url,\n",
    "            \"file_path\": pr_file_path,\n",
    "            \"line\": pr_line,\n",
    "            \"user\": pr_user,\n",
    "            \"diff_hunk\": pr_diff_hunk,\n",
    "            \"body\": pr_body,\n",
    "            \"commit_id\": pr_commit_id,\n",
    "            \"language\": pr_language\n",
    "        })\n",
    "\n",
    "    return pr_info_list"
   ]
  },
  {
   "cell_type": "markdown",
   "metadata": {},
   "source": [
    "### Connecting to the Vector Database"
   ]
  },
  {
   "cell_type": "code",
   "execution_count": 12,
   "metadata": {},
   "outputs": [
    {
     "name": "stderr",
     "output_type": "stream",
     "text": [
      "c:\\Users\\louis\\anaconda3\\envs\\MachineLearning\\Lib\\site-packages\\pinecone\\index.py:4: TqdmExperimentalWarning: Using `tqdm.autonotebook.tqdm` in notebook mode. Use `tqdm.tqdm` instead to force console mode (e.g. in jupyter console)\n",
      "  from tqdm.autonotebook import tqdm\n"
     ]
    }
   ],
   "source": [
    "import pinecone\n",
    "\n",
    "pinecone.init(\n",
    "    api_key=str(PINECONE_API_KEY),\n",
    "    environment='gcp-starter'\n",
    ")"
   ]
  },
  {
   "cell_type": "markdown",
   "metadata": {},
   "source": [
    "#### In case we need to delete and recreate the index to start fresh"
   ]
  },
  {
   "cell_type": "code",
   "execution_count": 13,
   "metadata": {},
   "outputs": [],
   "source": [
    "# pinecone.delete_index('review-owl')\n",
    "# pinecone.create_index('review-owl', dimension=384, metric='euclidean', pods=1, pod_type='starter')"
   ]
  },
  {
   "cell_type": "code",
   "execution_count": 14,
   "metadata": {},
   "outputs": [
    {
     "data": {
      "text/plain": [
       "{'dimension': 384,\n",
       " 'index_fullness': 0.04175,\n",
       " 'namespaces': {'': {'vector_count': 4175}},\n",
       " 'total_vector_count': 4175}"
      ]
     },
     "execution_count": 14,
     "metadata": {},
     "output_type": "execute_result"
    }
   ],
   "source": [
    "PINECONE_POOL_THREADS = 30\n",
    "index = pinecone.Index('review-owl', pool_threads=PINECONE_POOL_THREADS)\n",
    "index.describe_index_stats()"
   ]
  },
  {
   "cell_type": "markdown",
   "metadata": {},
   "source": [
    "### Loading the models for running feature extraction locally"
   ]
  },
  {
   "cell_type": "code",
   "execution_count": 15,
   "metadata": {},
   "outputs": [],
   "source": [
    "# from sentence_transformers import SentenceTransformer\n",
    "# # model = SentenceTransformer('BAAI/bge-large-en-v1.5')\n",
    "# model = SentenceTransformer('BAAI/bge-small-en-v1.5')\n",
    "\n",
    "# # alternative embedding model to consider\n",
    "# # model = SentenceTransformer('BAAI/llm-embedder')"
   ]
  },
  {
   "cell_type": "markdown",
   "metadata": {},
   "source": [
    "### Functions for loading the datasets"
   ]
  },
  {
   "cell_type": "code",
   "execution_count": 16,
   "metadata": {},
   "outputs": [],
   "source": [
    "# importing a specific repo dataset by finding all the files starting with the index number and a dash\n",
    "import glob\n",
    "\n",
    "# getting the index number from the file name\n",
    "def get_index_number(file):\n",
    "    \"\"\"A helper function to get the index number from the file name.\"\"\"\n",
    "    return int(file.split('\\\\')[1].split('-')[0])\n",
    "\n",
    "def import_filepaths(folder_path: str):\n",
    "    # getting all the files in the directory\n",
    "    file_paths = glob.glob(folder_path)\n",
    "\n",
    "    # sorting the files by the index number\n",
    "    sorted_filepaths = sorted(file_paths, key=get_index_number)\n",
    "\n",
    "    return sorted_filepaths"
   ]
  },
  {
   "cell_type": "markdown",
   "metadata": {},
   "source": [
    "### Functions for embedding"
   ]
  },
  {
   "cell_type": "code",
   "execution_count": 17,
   "metadata": {},
   "outputs": [],
   "source": [
    "from tqdm.auto import tqdm\n",
    "import pandas as pd\n",
    "import json\n",
    "import requests\n",
    "import time\n",
    "import random\n",
    "import itertools\n",
    "\n",
    "# API_URL = \"https://api-inference.huggingface.co/models/BAAI/bge-base-en-v1.5\"\n",
    "# API_URL = \"https://api-inference.huggingface.co/models/BAAI/bge-large-en-v1.5\"\n",
    "API_URL = \"https://api-inference.huggingface.co/models/BAAI/bge-small-en-v1.5\"\n",
    "# API_URL = \"https://api-inference.huggingface.co/models/BAAI/llm-embedder\"\n",
    "headers = {\"Authorization\": f\"Bearer {HUGGINGFACE_API_KEY}\"}\n",
    "\n",
    "def file_to_embedding_inputs(file_path: str):\n",
    "    embedding_input = []\n",
    "    \n",
    "    data = pd.read_json(file_path, orient='index')\n",
    "    for row in tqdm(data.iloc[:, 0], 'Splitting file into payloads'):\n",
    "        embedding_input.append('path: ' + row['path'] + '\\n' + 'diff_hunk: ' + row['diff_hunk'])\n",
    "    \n",
    "    return embedding_input\n",
    "\n",
    "def huggingface_inference_api_request(payload: list[str], payload_size: int = 1000):\n",
    "    try:\n",
    "        rejoined_list = []\n",
    "        for i in tqdm(range(0, len(payload), payload_size), 'Making requests to HuggingFace API'):\n",
    "            payload_slice = payload[i:i + payload_size]\n",
    "            data = json.dumps(payload_slice)\n",
    "            response = requests.request(\"POST\", API_URL, headers=headers, data=data)\n",
    "\n",
    "            if ('Rate limit reached' in response.content.decode(\"utf-8\")):\n",
    "                raise Exception('Rate limit reached')\n",
    "            while (response.status_code != 200 and 'is currently loading' in response.content.decode(\"utf-8\")):\n",
    "                logging.info(f'Waiting for 30 seconds. Reponse: {response.content.decode(\"utf-8\")}')\n",
    "                time.sleep(30)\n",
    "                response = requests.request(\"POST\", API_URL, headers=headers, data=data)\n",
    "\n",
    "            for v in json.loads(response.content.decode(\"utf-8\")):\n",
    "                rejoined_list.append(v)\n",
    "\n",
    "        return rejoined_list\n",
    "    except Exception as e:\n",
    "        print(e)\n",
    "        return e\n",
    "\n",
    "def make_huggingface_request_with_backoff(payload: list[str]):\n",
    "    max_retries = 10\n",
    "    retries = 0\n",
    "\n",
    "    while retries < max_retries:\n",
    "        try:\n",
    "            response = huggingface_inference_api_request(payload, 200)\n",
    "            if (response is Exception): raise response\n",
    "            return response\n",
    "        except requests.HTTPError as e:\n",
    "            print('HTTP error: ' + str(e.response.status_code))\n",
    "            if e.response.status_code == 503:\n",
    "                wait_time = (2 ** retries) + (random.uniform(0, 1) * 0.1)  # Exponential backoff with random jitter\n",
    "                time.sleep(wait_time)\n",
    "                retries += 1\n",
    "            else:\n",
    "                print('Error: ' + str(e))\n",
    "                raise e\n",
    "        except Exception as e:\n",
    "            if (e == 'Rate limit reached'):\n",
    "                print('Rate limit reached, waiting for 10 minutes')\n",
    "                time.sleep(60 * 10) # wait for 10 minutes to try again\n",
    "                retries = 0\n",
    "                pass\n",
    "            logging.error(e)\n",
    "            retries += 1\n",
    "\n",
    "    logging.error('Max retries exceeded')\n",
    "    raise Exception(\"Max retries exceeded\")"
   ]
  },
  {
   "cell_type": "markdown",
   "metadata": {},
   "source": [
    "### Functions for generating the info that will be saved in the database"
   ]
  },
  {
   "cell_type": "code",
   "execution_count": 18,
   "metadata": {},
   "outputs": [],
   "source": [
    "import hashlib\n",
    "\n",
    "def hash_id(id):\n",
    "    return hashlib.sha256(id.encode('utf-8')).hexdigest()\n",
    "\n",
    "# Function to check if vector ID matches PR information.\n",
    "def check_vector_id_match(repo_name: str, pr_id: int, vector_id: str):\n",
    "    gen_id = repo_name + '-' + hash_id(repo_name + str(pr_id))\n",
    "    return gen_id == vector_id"
   ]
  },
  {
   "cell_type": "code",
   "execution_count": 19,
   "metadata": {},
   "outputs": [],
   "source": [
    "def generate_pr_info(file_path: str, generated_vector_data: list[tuple[str, list, dict]], language: str):\n",
    "    pr_info = []\n",
    "\n",
    "    data = pd.read_json(file_path, orient='index')\n",
    "\n",
    "    for i, row in tqdm(enumerate(data.iloc[:, 0]), 'Generating PR info'):\n",
    "        if (check_vector_id_match(data.columns[0], row['id'], generated_vector_data[i][0])):\n",
    "            # (vector_id, pr_id, repo_name, html_url, file_path, line, user, diff_hunk, body, commit_id, language)\n",
    "            pr_info.append({'vector_id': generated_vector_data[i][0], 'pr_id': row['id'], 'repo_name': data.columns[0], 'html_url': row['html_url'], 'file_path': row['path'], 'line': row['line'], 'user': row['user'], 'diff_hunk': row['diff_hunk'], 'body': row['body'], 'commit_id': row['commit_id'], 'language': language})\n",
    "        else:\n",
    "            raise Exception('Vector IDs dont match')\n",
    "\n",
    "    return pr_info"
   ]
  },
  {
   "cell_type": "markdown",
   "metadata": {},
   "source": [
    "### Functions that go from raw data to processed embeddings"
   ]
  },
  {
   "cell_type": "code",
   "execution_count": 20,
   "metadata": {},
   "outputs": [],
   "source": [
    "import threading\n",
    "import queue\n",
    "\n",
    "def measure_metadata_size(metadata_list: list[dict]):\n",
    "    return [len(str(metadata)) for metadata in metadata_list]\n",
    "\n",
    "def generate_metadata(file_path: str):\n",
    "    metadata_list = []\n",
    "    data = pd.read_json(file_path, orient='index')\n",
    "\n",
    "    for row in data.iloc[:, 0]:\n",
    "        metadata_list.append({'id': row['id'],'repo': data.columns[0],'path': row['path']})\n",
    "    \n",
    "    metadata_size_list = measure_metadata_size(metadata_list)\n",
    "    for metadata_size in metadata_size_list:\n",
    "        if (metadata_size > 40960):\n",
    "            logging.error(f\"Metadata size is greater than 40960 bytes at {metadata_size} bytes at index: {metadata_size_list.index(metadata_size)}.\\nfile: {file_path}.\")\n",
    "\n",
    "    return metadata_list\n",
    "\n",
    "def generate_vector_ids(metadata_list: list[dict]):\n",
    "    ids = []\n",
    "    for i in range(len(metadata_list)):\n",
    "        ids.append(metadata_list[i]['repo'] + '-' + hash_id(metadata_list[i]['repo'] + str(metadata_list[i]['id'])))\n",
    "    return ids\n",
    "\n",
    "def embed_file(file_path: str):\n",
    "    vectors_list = []\n",
    "    embedding_inputs_list = file_to_embedding_inputs(file_path)\n",
    "\n",
    "    vectors_list = make_huggingface_request_with_backoff(embedding_inputs_list)\n",
    "\n",
    "    # code for running the embedding model locally\n",
    "    # for payload in tqdm(embedding_inputs_list, 'Generating vector embeddings'):\n",
    "        # vectors_list.append(model.encode(payload).tolist())\n",
    "    \n",
    "    return vectors_list\n",
    "\n",
    "def generate_upsert_data(file_path: str):\n",
    "    embedding_result = embed_file(file_path)\n",
    "    metadata_list = generate_metadata(file_path)\n",
    "    vector_ids = generate_vector_ids(metadata_list)\n",
    "\n",
    "    upsert_data = list(zip(vector_ids, embedding_result, metadata_list))\n",
    "\n",
    "    return upsert_data"
   ]
  },
  {
   "cell_type": "markdown",
   "metadata": {},
   "source": [
    "### Putting everything together with multithreading"
   ]
  },
  {
   "cell_type": "code",
   "execution_count": 21,
   "metadata": {},
   "outputs": [],
   "source": [
    "def split_into_chunks(iterable: list, batch_size=100):\n",
    "    \"\"\"A helper function to break an iterable into chunks of size batch_size.\"\"\"\n",
    "    it = iter(iterable)\n",
    "    chunks = []\n",
    "    for i in range(0, len(iterable), batch_size):\n",
    "        chunks.append(list(itertools.islice(it, batch_size)))\n",
    "\n",
    "    return chunks"
   ]
  },
  {
   "cell_type": "code",
   "execution_count": 22,
   "metadata": {},
   "outputs": [],
   "source": [
    "# Class to track the number of files\n",
    "class CountedQueue(queue.Queue):\n",
    "    def __init__(self, *args, **kwargs):\n",
    "        super().__init__(*args, **kwargs)\n",
    "        self.total_files = 0\n",
    "\n",
    "    def put(self, item, *args, **kwargs):\n",
    "        super().put(item, *args, **kwargs)\n",
    "        self.total_files += 1\n",
    "            \n",
    "def worker(file_queue: queue.Queue):\n",
    "    while True:\n",
    "        file_path = file_queue.get()\n",
    "        if file_path is None:\n",
    "            break\n",
    "\n",
    "        upsert_data = generate_upsert_data(file_path)\n",
    "\n",
    "        upsert_data_chunks = split_into_chunks(upsert_data)\n",
    "\n",
    "        for chunk in tqdm(upsert_data_chunks, 'Uploading data to Pinecone'):\n",
    "            index.upsert(chunk)\n",
    "\n",
    "        for row in generate_pr_info(file_path, upsert_data, 'JavaScript'):\n",
    "            # (vector_id, pr_id, repo_name, html_url, file_path, line, user, diff_hunk, body, commit_id, language)\n",
    "            insert_or_update_pr_info(row['vector_id'], row['pr_id'], row['repo_name'], row['html_url'], row['file_path'], row['line'], row['user'], row['diff_hunk'], row['body'], row['commit_id'], row['language'])\n",
    "        \n",
    "        split_txt = \"\\\\\"\n",
    "        logging.info(f\"Logging: {file_path.split(split_txt)[1]} processed\")\n",
    "\n",
    "        file_queue.task_done()\n",
    "\n",
    "# Function to create and manage worker threads\n",
    "def create_worker_threads(num_threads: int, file_queue: queue.Queue):\n",
    "    threads = list[threading.Thread]()\n",
    "\n",
    "    for _ in range(num_threads):\n",
    "        thread = threading.Thread(target=worker, args=(file_queue,))\n",
    "        thread.start()\n",
    "        threads.append(thread)\n",
    "\n",
    "    return threads\n",
    "\n",
    "# Main function to process files using multiple threads\n",
    "def process_files_with_threads(file_names: list[str], num_threads: int, start: int = 0, end=None):\n",
    "    # Create a thread-safe queue\n",
    "    file_queue = CountedQueue()\n",
    "\n",
    "    # Populate the queue with file names\n",
    "    for file_name in file_names[start:end]:\n",
    "        file_queue.put(file_name)\n",
    "\n",
    "    # Create worker threads\n",
    "    threads = create_worker_threads(num_threads, file_queue)\n",
    "    logging.info(f\"Total files: {file_queue.total_files}, unfinished tasks: {file_queue.unfinished_tasks}\")\n",
    "\n",
    "    # Create a tqdm progress bar\n",
    "    pbar = tqdm(total=file_queue.total_files, unit=\"file\")\n",
    "\n",
    "    while pbar.n < file_queue.total_files:\n",
    "        pbar.n = file_queue.total_files - file_queue.unfinished_tasks\n",
    "        pbar.update(0)\n",
    "\n",
    "    # Wait for all file processing to be completed\n",
    "    file_queue.join()\n",
    "\n",
    "    # Stop the worker threads\n",
    "    for _ in range(num_threads):\n",
    "        file_queue.put(None)\n",
    "\n",
    "    for thread in threads:\n",
    "        thread.join()\n",
    "\n",
    "    logging.info(\"All files processed.\")"
   ]
  },
  {
   "cell_type": "code",
   "execution_count": 23,
   "metadata": {},
   "outputs": [],
   "source": [
    "# # For testing\n",
    "# file_paths = import_filepaths('D:/GitHub/review-owl-datasets/dataset/mined-comments-25stars-25prs-JavaScript.json/repo-split/*.json')\n",
    "# e0 = file_to_embedding_inputs(file_paths[5000])\n",
    "# u1 = generate_upsert_data(file_paths[5000])"
   ]
  },
  {
   "cell_type": "code",
   "execution_count": 24,
   "metadata": {},
   "outputs": [],
   "source": [
    "# e1 = huggingface_inference_api_request(e0, 200)"
   ]
  },
  {
   "cell_type": "code",
   "execution_count": 25,
   "metadata": {},
   "outputs": [],
   "source": [
    "# m1 = generate_metadata(file_paths[500])\n",
    "# m1[0]"
   ]
  },
  {
   "cell_type": "code",
   "execution_count": 26,
   "metadata": {},
   "outputs": [],
   "source": [
    "# pri1 = generate_pr_info(file_paths[500], u1, 'JavaScript')\n",
    "# pri1"
   ]
  },
  {
   "cell_type": "code",
   "execution_count": 27,
   "metadata": {},
   "outputs": [],
   "source": [
    "# m1[0]['repo']"
   ]
  },
  {
   "cell_type": "code",
   "execution_count": 28,
   "metadata": {},
   "outputs": [],
   "source": [
    "# v1 = generate_vector_ids(m1)"
   ]
  },
  {
   "cell_type": "code",
   "execution_count": 29,
   "metadata": {},
   "outputs": [],
   "source": [
    "# z1 = list(zip(v1, e1, m1))"
   ]
  },
  {
   "cell_type": "code",
   "execution_count": 30,
   "metadata": {},
   "outputs": [],
   "source": [
    "# print(type(z1))\n",
    "# print(type(z1[0]))\n",
    "# print(type(z1[0][0]))\n",
    "# print(type(z1[0][1]))\n",
    "# print(type(z1[0][2]))"
   ]
  },
  {
   "cell_type": "code",
   "execution_count": 31,
   "metadata": {},
   "outputs": [],
   "source": [
    "# hash_id(m1[0]['repo'] + '0')"
   ]
  },
  {
   "cell_type": "code",
   "execution_count": 32,
   "metadata": {},
   "outputs": [],
   "source": [
    "# z1"
   ]
  },
  {
   "cell_type": "code",
   "execution_count": 33,
   "metadata": {},
   "outputs": [],
   "source": [
    "# upsert_data_chunks = split_into_chunks(z1)\n",
    "\n",
    "# for chunk in tqdm(upsert_data_chunks, 'Uploading data to Pinecone'):\n",
    "#     index.upsert(chunk)"
   ]
  },
  {
   "cell_type": "code",
   "execution_count": 34,
   "metadata": {},
   "outputs": [],
   "source": [
    "# upsert_data = generate_upsert_data(file_paths[0])\n",
    "# upsert_data_chunks = split_into_chunks(upsert_data)"
   ]
  },
  {
   "cell_type": "code",
   "execution_count": 35,
   "metadata": {},
   "outputs": [
    {
     "data": {
      "text/plain": [
       "{'dimension': 384,\n",
       " 'index_fullness': 0.04175,\n",
       " 'namespaces': {'': {'vector_count': 4175}},\n",
       " 'total_vector_count': 4175}"
      ]
     },
     "execution_count": 35,
     "metadata": {},
     "output_type": "execute_result"
    }
   ],
   "source": [
    "index.describe_index_stats()"
   ]
  },
  {
   "cell_type": "code",
   "execution_count": 36,
   "metadata": {},
   "outputs": [
    {
     "data": {
      "application/vnd.jupyter.widget-view+json": {
       "model_id": "5dc4bdb633db420d8409cc1aea6db7d2",
       "version_major": 2,
       "version_minor": 0
      },
      "text/plain": [
       "  0%|          | 0/10 [00:00<?, ?file/s]"
      ]
     },
     "metadata": {},
     "output_type": "display_data"
    },
    {
     "data": {
      "application/vnd.jupyter.widget-view+json": {
       "model_id": "88c741d8b1244815a4d215145982639b",
       "version_major": 2,
       "version_minor": 0
      },
      "text/plain": [
       "Splitting file into payloads:   0%|          | 0/7 [00:00<?, ?it/s]"
      ]
     },
     "metadata": {},
     "output_type": "display_data"
    },
    {
     "data": {
      "application/vnd.jupyter.widget-view+json": {
       "model_id": "f36bf7de433347d4a9706a51828fd397",
       "version_major": 2,
       "version_minor": 0
      },
      "text/plain": [
       "Splitting file into payloads:   0%|          | 0/7 [00:00<?, ?it/s]"
      ]
     },
     "metadata": {},
     "output_type": "display_data"
    },
    {
     "data": {
      "application/vnd.jupyter.widget-view+json": {
       "model_id": "3d49cf1ce9154934b7b11d0b2dd2e316",
       "version_major": 2,
       "version_minor": 0
      },
      "text/plain": [
       "Splitting file into payloads:   0%|          | 0/7 [00:00<?, ?it/s]"
      ]
     },
     "metadata": {},
     "output_type": "display_data"
    },
    {
     "data": {
      "application/vnd.jupyter.widget-view+json": {
       "model_id": "6e3b363ad6544b7e93d0b2e17469d914",
       "version_major": 2,
       "version_minor": 0
      },
      "text/plain": [
       "Splitting file into payloads:   0%|          | 0/7 [00:00<?, ?it/s]"
      ]
     },
     "metadata": {},
     "output_type": "display_data"
    },
    {
     "data": {
      "application/vnd.jupyter.widget-view+json": {
       "model_id": "ec6eafb7d9ef4226ab4e2908147c634c",
       "version_major": 2,
       "version_minor": 0
      },
      "text/plain": [
       "Splitting file into payloads:   0%|          | 0/7 [00:00<?, ?it/s]"
      ]
     },
     "metadata": {},
     "output_type": "display_data"
    },
    {
     "data": {
      "application/vnd.jupyter.widget-view+json": {
       "model_id": "2c85113649e34880838ee858ee011f99",
       "version_major": 2,
       "version_minor": 0
      },
      "text/plain": [
       "Splitting file into payloads:   0%|          | 0/7 [00:00<?, ?it/s]"
      ]
     },
     "metadata": {},
     "output_type": "display_data"
    },
    {
     "data": {
      "application/vnd.jupyter.widget-view+json": {
       "model_id": "c76e491088564009adb10d2edff4d110",
       "version_major": 2,
       "version_minor": 0
      },
      "text/plain": [
       "Making requests to HuggingFace API:   0%|          | 0/1 [00:00<?, ?it/s]"
      ]
     },
     "metadata": {},
     "output_type": "display_data"
    },
    {
     "data": {
      "application/vnd.jupyter.widget-view+json": {
       "model_id": "2f2e9078eb444f68a1f9d5fdb767d3e8",
       "version_major": 2,
       "version_minor": 0
      },
      "text/plain": [
       "Making requests to HuggingFace API:   0%|          | 0/1 [00:00<?, ?it/s]"
      ]
     },
     "metadata": {},
     "output_type": "display_data"
    },
    {
     "data": {
      "application/vnd.jupyter.widget-view+json": {
       "model_id": "795a6e77c13449f5afd50bc6ea92b4c7",
       "version_major": 2,
       "version_minor": 0
      },
      "text/plain": [
       "Making requests to HuggingFace API:   0%|          | 0/1 [00:00<?, ?it/s]"
      ]
     },
     "metadata": {},
     "output_type": "display_data"
    },
    {
     "data": {
      "application/vnd.jupyter.widget-view+json": {
       "model_id": "908009716a1e41bab209eb009b1e7925",
       "version_major": 2,
       "version_minor": 0
      },
      "text/plain": [
       "Making requests to HuggingFace API:   0%|          | 0/1 [00:00<?, ?it/s]"
      ]
     },
     "metadata": {},
     "output_type": "display_data"
    },
    {
     "data": {
      "application/vnd.jupyter.widget-view+json": {
       "model_id": "1084bbe358584d3b85c87f69158185eb",
       "version_major": 2,
       "version_minor": 0
      },
      "text/plain": [
       "Making requests to HuggingFace API:   0%|          | 0/1 [00:00<?, ?it/s]"
      ]
     },
     "metadata": {},
     "output_type": "display_data"
    },
    {
     "data": {
      "application/vnd.jupyter.widget-view+json": {
       "model_id": "a80f53ecac704ddeb23342819365bad6",
       "version_major": 2,
       "version_minor": 0
      },
      "text/plain": [
       "Making requests to HuggingFace API:   0%|          | 0/1 [00:00<?, ?it/s]"
      ]
     },
     "metadata": {},
     "output_type": "display_data"
    },
    {
     "data": {
      "application/vnd.jupyter.widget-view+json": {
       "model_id": "8047b1aa223e4ffe856c0f434557681b",
       "version_major": 2,
       "version_minor": 0
      },
      "text/plain": [
       "Uploading data to Pinecone:   0%|          | 0/1 [00:00<?, ?it/s]"
      ]
     },
     "metadata": {},
     "output_type": "display_data"
    },
    {
     "data": {
      "application/vnd.jupyter.widget-view+json": {
       "model_id": "097a0daecde14541a9d98d061a3cf94d",
       "version_major": 2,
       "version_minor": 0
      },
      "text/plain": [
       "Generating PR info: 0it [00:00, ?it/s]"
      ]
     },
     "metadata": {},
     "output_type": "display_data"
    },
    {
     "data": {
      "application/vnd.jupyter.widget-view+json": {
       "model_id": "a0d2a6042e31473cba75c9e0e3563069",
       "version_major": 2,
       "version_minor": 0
      },
      "text/plain": [
       "Splitting file into payloads:   0%|          | 0/7 [00:00<?, ?it/s]"
      ]
     },
     "metadata": {},
     "output_type": "display_data"
    },
    {
     "data": {
      "application/vnd.jupyter.widget-view+json": {
       "model_id": "8cabd72b83a145a0bc6bee73811cc7a1",
       "version_major": 2,
       "version_minor": 0
      },
      "text/plain": [
       "Uploading data to Pinecone:   0%|          | 0/1 [00:00<?, ?it/s]"
      ]
     },
     "metadata": {},
     "output_type": "display_data"
    },
    {
     "data": {
      "application/vnd.jupyter.widget-view+json": {
       "model_id": "6e81107a9b564f6e8ed95f78b1db633e",
       "version_major": 2,
       "version_minor": 0
      },
      "text/plain": [
       "Uploading data to Pinecone:   0%|          | 0/1 [00:00<?, ?it/s]"
      ]
     },
     "metadata": {},
     "output_type": "display_data"
    },
    {
     "data": {
      "application/vnd.jupyter.widget-view+json": {
       "model_id": "6220c9b09efb471c85f8f095a8966cf2",
       "version_major": 2,
       "version_minor": 0
      },
      "text/plain": [
       "Uploading data to Pinecone:   0%|          | 0/1 [00:00<?, ?it/s]"
      ]
     },
     "metadata": {},
     "output_type": "display_data"
    },
    {
     "data": {
      "application/vnd.jupyter.widget-view+json": {
       "model_id": "18eea95920e54d20bc303b5966a19bbb",
       "version_major": 2,
       "version_minor": 0
      },
      "text/plain": [
       "Uploading data to Pinecone:   0%|          | 0/1 [00:00<?, ?it/s]"
      ]
     },
     "metadata": {},
     "output_type": "display_data"
    },
    {
     "data": {
      "application/vnd.jupyter.widget-view+json": {
       "model_id": "385916f8d60243fdbf70f3a34b06082f",
       "version_major": 2,
       "version_minor": 0
      },
      "text/plain": [
       "Uploading data to Pinecone:   0%|          | 0/1 [00:00<?, ?it/s]"
      ]
     },
     "metadata": {},
     "output_type": "display_data"
    },
    {
     "data": {
      "application/vnd.jupyter.widget-view+json": {
       "model_id": "f05211435ee446df91121ff1ec55b466",
       "version_major": 2,
       "version_minor": 0
      },
      "text/plain": [
       "Making requests to HuggingFace API:   0%|          | 0/1 [00:00<?, ?it/s]"
      ]
     },
     "metadata": {},
     "output_type": "display_data"
    },
    {
     "data": {
      "application/vnd.jupyter.widget-view+json": {
       "model_id": "c055c79b20d94c5ba3d3f859c7ca3f81",
       "version_major": 2,
       "version_minor": 0
      },
      "text/plain": [
       "Generating PR info: 0it [00:00, ?it/s]"
      ]
     },
     "metadata": {},
     "output_type": "display_data"
    },
    {
     "data": {
      "application/vnd.jupyter.widget-view+json": {
       "model_id": "e7764f2e08284f9f94d16fba4a3f9f48",
       "version_major": 2,
       "version_minor": 0
      },
      "text/plain": [
       "Generating PR info: 0it [00:00, ?it/s]"
      ]
     },
     "metadata": {},
     "output_type": "display_data"
    },
    {
     "data": {
      "application/vnd.jupyter.widget-view+json": {
       "model_id": "39597696a29e4f18adfaee938cfbf65c",
       "version_major": 2,
       "version_minor": 0
      },
      "text/plain": [
       "Generating PR info: 0it [00:00, ?it/s]"
      ]
     },
     "metadata": {},
     "output_type": "display_data"
    },
    {
     "data": {
      "application/vnd.jupyter.widget-view+json": {
       "model_id": "03be83da54f041329df48d5c7c33d224",
       "version_major": 2,
       "version_minor": 0
      },
      "text/plain": [
       "Splitting file into payloads:   0%|          | 0/7 [00:00<?, ?it/s]"
      ]
     },
     "metadata": {},
     "output_type": "display_data"
    },
    {
     "data": {
      "application/vnd.jupyter.widget-view+json": {
       "model_id": "7e82f279d5a24bed87cd2cba985cf9aa",
       "version_major": 2,
       "version_minor": 0
      },
      "text/plain": [
       "Generating PR info: 0it [00:00, ?it/s]"
      ]
     },
     "metadata": {},
     "output_type": "display_data"
    },
    {
     "data": {
      "application/vnd.jupyter.widget-view+json": {
       "model_id": "e14c76b16ddf4398ae82ec979cd495f5",
       "version_major": 2,
       "version_minor": 0
      },
      "text/plain": [
       "Generating PR info: 0it [00:00, ?it/s]"
      ]
     },
     "metadata": {},
     "output_type": "display_data"
    },
    {
     "data": {
      "application/vnd.jupyter.widget-view+json": {
       "model_id": "642dd48a21e14fc5a1b2af174c1db785",
       "version_major": 2,
       "version_minor": 0
      },
      "text/plain": [
       "Uploading data to Pinecone:   0%|          | 0/1 [00:00<?, ?it/s]"
      ]
     },
     "metadata": {},
     "output_type": "display_data"
    },
    {
     "data": {
      "application/vnd.jupyter.widget-view+json": {
       "model_id": "846a27b0f9b4478f99cb855a9b5746d0",
       "version_major": 2,
       "version_minor": 0
      },
      "text/plain": [
       "Splitting file into payloads:   0%|          | 0/7 [00:00<?, ?it/s]"
      ]
     },
     "metadata": {},
     "output_type": "display_data"
    },
    {
     "data": {
      "application/vnd.jupyter.widget-view+json": {
       "model_id": "2cb664fb64784f54a2cef9958dad78aa",
       "version_major": 2,
       "version_minor": 0
      },
      "text/plain": [
       "Splitting file into payloads:   0%|          | 0/7 [00:00<?, ?it/s]"
      ]
     },
     "metadata": {},
     "output_type": "display_data"
    },
    {
     "data": {
      "application/vnd.jupyter.widget-view+json": {
       "model_id": "93a64ae383524ade91ab99d7ad1ba7c0",
       "version_major": 2,
       "version_minor": 0
      },
      "text/plain": [
       "Generating PR info: 0it [00:00, ?it/s]"
      ]
     },
     "metadata": {},
     "output_type": "display_data"
    },
    {
     "data": {
      "application/vnd.jupyter.widget-view+json": {
       "model_id": "3b9f26b58b3149d288af20a0046123e0",
       "version_major": 2,
       "version_minor": 0
      },
      "text/plain": [
       "Making requests to HuggingFace API:   0%|          | 0/1 [00:00<?, ?it/s]"
      ]
     },
     "metadata": {},
     "output_type": "display_data"
    },
    {
     "data": {
      "application/vnd.jupyter.widget-view+json": {
       "model_id": "11cb91801a60480497d9c339f858050c",
       "version_major": 2,
       "version_minor": 0
      },
      "text/plain": [
       "Making requests to HuggingFace API:   0%|          | 0/1 [00:00<?, ?it/s]"
      ]
     },
     "metadata": {},
     "output_type": "display_data"
    },
    {
     "data": {
      "application/vnd.jupyter.widget-view+json": {
       "model_id": "9108346568544497a8c1f8140986bc65",
       "version_major": 2,
       "version_minor": 0
      },
      "text/plain": [
       "Making requests to HuggingFace API:   0%|          | 0/1 [00:00<?, ?it/s]"
      ]
     },
     "metadata": {},
     "output_type": "display_data"
    },
    {
     "data": {
      "application/vnd.jupyter.widget-view+json": {
       "model_id": "0e8ae5647681430e942e841182113f74",
       "version_major": 2,
       "version_minor": 0
      },
      "text/plain": [
       "Uploading data to Pinecone:   0%|          | 0/1 [00:00<?, ?it/s]"
      ]
     },
     "metadata": {},
     "output_type": "display_data"
    },
    {
     "data": {
      "application/vnd.jupyter.widget-view+json": {
       "model_id": "d9e744dffcf34ee19cf657940d98baf1",
       "version_major": 2,
       "version_minor": 0
      },
      "text/plain": [
       "Generating PR info: 0it [00:00, ?it/s]"
      ]
     },
     "metadata": {},
     "output_type": "display_data"
    },
    {
     "data": {
      "application/vnd.jupyter.widget-view+json": {
       "model_id": "94c676729f1b4665892a8390081eddbb",
       "version_major": 2,
       "version_minor": 0
      },
      "text/plain": [
       "Uploading data to Pinecone:   0%|          | 0/1 [00:00<?, ?it/s]"
      ]
     },
     "metadata": {},
     "output_type": "display_data"
    },
    {
     "data": {
      "application/vnd.jupyter.widget-view+json": {
       "model_id": "e7ea490eb81742feb4f27c4a765fc365",
       "version_major": 2,
       "version_minor": 0
      },
      "text/plain": [
       "Uploading data to Pinecone:   0%|          | 0/1 [00:00<?, ?it/s]"
      ]
     },
     "metadata": {},
     "output_type": "display_data"
    },
    {
     "data": {
      "application/vnd.jupyter.widget-view+json": {
       "model_id": "d25fd83ced1e4f63b61ff3e1bca83edc",
       "version_major": 2,
       "version_minor": 0
      },
      "text/plain": [
       "Generating PR info: 0it [00:00, ?it/s]"
      ]
     },
     "metadata": {},
     "output_type": "display_data"
    },
    {
     "data": {
      "application/vnd.jupyter.widget-view+json": {
       "model_id": "3ef49c21ba634ed2b20d5829ab3c0ab0",
       "version_major": 2,
       "version_minor": 0
      },
      "text/plain": [
       "Generating PR info: 0it [00:00, ?it/s]"
      ]
     },
     "metadata": {},
     "output_type": "display_data"
    }
   ],
   "source": [
    "file_paths = import_filepaths('D:/GitHub/review-owl-datasets/dataset/mined-comments-25stars-25prs-JavaScript.json/repo-split/*.json')\n",
    "process_files_with_threads(file_names=file_paths, num_threads=6, start=5040, end=5050)"
   ]
  }
 ],
 "metadata": {
  "kernelspec": {
   "display_name": "MachineLearning",
   "language": "python",
   "name": "python3"
  },
  "language_info": {
   "codemirror_mode": {
    "name": "ipython",
    "version": 3
   },
   "file_extension": ".py",
   "mimetype": "text/x-python",
   "name": "python",
   "nbconvert_exporter": "python",
   "pygments_lexer": "ipython3",
   "version": "3.11.2"
  }
 },
 "nbformat": 4,
 "nbformat_minor": 2
}
