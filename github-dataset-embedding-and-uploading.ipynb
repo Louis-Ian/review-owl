{
 "cells": [
  {
   "cell_type": "markdown",
   "metadata": {},
   "source": [
    "# Data embedding, vector uploading and PR info mapping\n",
    "## Data pipeline\n",
    "The task of this notebook is to ingest each Pull Request(PR) in the subdatasets, upload the relevant content to a Database, embed it using a feature extraction model, upload it to a vector database, and map the PR content to the corresponding vector for Retrieval Augmented Generation (RAG).\n",
    "Given the size of the overall dataset (over 30GB), this notebook will focus on the JavaScript portion of the dataset as a proof of concept.\n",
    "\n",
    "`create a queue of the file names -> then spawn N threads -> each thread takes a file from the queue -> generates the proper datastructure/dataframe from the json file -> sends to the inference api (or runs the transformer locally) for embeddings -> takes the resulting embedding -> generates the proper datastructure to upload to a vector database (pinecone) and does so in chuncks of 100 vectors, as per the pinecone documentation -> upload the corresponding PR info to another Database mapping for the VectorID -> when finished with a file save to a log -> repeat.`"
   ]
  },
  {
   "cell_type": "markdown",
   "metadata": {},
   "source": [
    "### Loading API keys and other secrets"
   ]
  },
  {
   "cell_type": "code",
   "execution_count": 31,
   "metadata": {},
   "outputs": [],
   "source": [
    "from dotenv import load_dotenv\n",
    "import os\n",
    "import logging\n",
    "\n",
    "logging.basicConfig(filename='embedding_progress.log', level=logging.INFO, format='%(asctime)s - %(levelname)s - %(message)s')\n",
    "\n",
    "load_dotenv()\n",
    "\n",
    "PINECONE_API_KEY = os.getenv('PINECONE_API_KEY')\n",
    "HUGGINGFACE_API_KEY = os.getenv('HUGGINGFACE_API_KEY')\n",
    "POSTGRESQL_USER = os.getenv('POSTGRESQL_USER')\n",
    "POSTGRESQL_PASSWORD = os.getenv('POSTGRESQL_PASSWORD')"
   ]
  },
  {
   "cell_type": "markdown",
   "metadata": {},
   "source": [
    "### Connect to the PostgreSQL Database"
   ]
  },
  {
   "cell_type": "code",
   "execution_count": 46,
   "metadata": {},
   "outputs": [],
   "source": [
    "import psycopg2 as pg\n",
    "\n",
    "conn = pg.connect(\n",
    "    dbname=\"postgres\",\n",
    "    user=POSTGRESQL_USER,\n",
    "    password=POSTGRESQL_PASSWORD,\n",
    "    host=\"localhost\",\n",
    "    port=\"5432\"\n",
    ")\n",
    "conn.autocommit = True\n",
    "\n",
    "# Create a cursor object for SQL operations.\n",
    "cur = conn.cursor()"
   ]
  },
  {
   "cell_type": "code",
   "execution_count": 51,
   "metadata": {},
   "outputs": [
    {
     "data": {
      "text/plain": [
       "('PostgreSQL 16.0, compiled by Visual C++ build 1935, 64-bit',)"
      ]
     },
     "execution_count": 51,
     "metadata": {},
     "output_type": "execute_result"
    }
   ],
   "source": [
    "# test connection\n",
    "cur.execute(\"SELECT version();\")\n",
    "cur.fetchone()"
   ]
  },
  {
   "cell_type": "code",
   "execution_count": 24,
   "metadata": {},
   "outputs": [],
   "source": [
    "cur.execute(\"ROLLBACK\")\n",
    "conn.commit()"
   ]
  },
  {
   "cell_type": "markdown",
   "metadata": {},
   "source": [
    "### Create a database for the project"
   ]
  },
  {
   "cell_type": "code",
   "execution_count": 52,
   "metadata": {},
   "outputs": [],
   "source": [
    "# Check if the database already exists, and create it if not.\n",
    "cur.execute(\"SELECT 1 FROM pg_catalog.pg_database WHERE datname = 'review_owl';\")\n",
    "exists = cur.fetchall()\n",
    "\n",
    "if not exists:\n",
    "    logging.info(\"Creating database\")\n",
    "    cur.execute(\"CREATE DATABASE review_owl;\")\n",
    "    conn.commit()\n",
    "\n",
    "conn.close()"
   ]
  },
  {
   "cell_type": "markdown",
   "metadata": {},
   "source": [
    "### Connect to the project database"
   ]
  },
  {
   "cell_type": "code",
   "execution_count": 53,
   "metadata": {},
   "outputs": [],
   "source": [
    "# Switch to the new database.\n",
    "conn = pg.connect(\n",
    "    dbname=\"review_owl\",\n",
    "    user=POSTGRESQL_USER,\n",
    "    password=POSTGRESQL_PASSWORD,\n",
    "    host=\"localhost\",\n",
    "    port=\"5432\"\n",
    ")\n",
    "conn.autocommit = True\n",
    "\n",
    "# Create a cursor object for SQL operations.\n",
    "cur = conn.cursor()"
   ]
  },
  {
   "cell_type": "markdown",
   "metadata": {},
   "source": [
    "### Create a Table for PR Information"
   ]
  },
  {
   "cell_type": "code",
   "execution_count": 44,
   "metadata": {},
   "outputs": [],
   "source": [
    "# Check if the table already exists, and create it if not.\n",
    "cur.execute(\"\"\"\n",
    "    CREATE TABLE IF NOT EXISTS pr_info (\n",
    "        pr_vector_id TEXT PRIMARY KEY,\n",
    "        pr_id INT UNIQUE,\n",
    "        pr_repo_name TEXT,\n",
    "        pr_html_url TEXT,\n",
    "        pr_file_path TEXT,\n",
    "        pr_line INT,\n",
    "        pr_user TEXT,\n",
    "        pr_diff_hunk TEXT,\n",
    "        pr_body TEXT,\n",
    "        pr_commit_id TEXT,\n",
    "        pr_language TEXT\n",
    "    );\n",
    "\"\"\")\n",
    "\n",
    "conn.commit()"
   ]
  },
  {
   "cell_type": "markdown",
   "metadata": {},
   "source": [
    "### Function for inserting and updating rows"
   ]
  },
  {
   "cell_type": "code",
   "execution_count": 60,
   "metadata": {},
   "outputs": [],
   "source": [
    "# Function to insert or update rows in the pr_info table.\n",
    "def insert_or_update_pr_info(vector_id: str, pr_id: int, repo_name: str, html_url: str, file_path: str, line: int, user: str, diff_hunk: str, body: str, commit_id: str, language: str):\n",
    "    try:\n",
    "        cur.execute(\"\"\"\n",
    "            INSERT INTO pr_info (pr_vector_id, pr_id, pr_repo_name, pr_html_url, pr_file_path, pr_line, pr_user, pr_diff_hunk, pr_body, pr_commit_id, pr_language)\n",
    "            VALUES (%s, %s, %s, %s, %s, %s, %s, %s, %s, %s, %s);\n",
    "        \"\"\", (vector_id, pr_id, repo_name, html_url, file_path, line, user, diff_hunk, body, commit_id, language))\n",
    "        conn.commit()\n",
    "        return True\n",
    "    except Exception as e:\n",
    "        conn.rollback()\n",
    "        logging.error(e)\n",
    "        return False"
   ]
  },
  {
   "cell_type": "code",
   "execution_count": 62,
   "metadata": {},
   "outputs": [
    {
     "data": {
      "text/plain": [
       "False"
      ]
     },
     "execution_count": 62,
     "metadata": {},
     "output_type": "execute_result"
    }
   ],
   "source": [
    "# test insert\n",
    "# insert_or_update_pr_info(\"\", 44735997, \"plotly@plotly.js\", \"https://github.com/plotly/plotly.js/pull/1#discussion_r44735997\", \"devtools/test_dashboard/server.js\", 36, \"etpinard\", \"@@ -1,89 +1,53 @@\\n-var http = require('http');\\n-var ecstatic = require('ecstatic');\\n-var browserify = require('browserify');\\n-var open = require('open');\\n var fs = require('fs');\\n-var watchify = require('watchify');\\n+var http = require('http');\\n var path = require('path');\\n-var outpipe = require('outpipe');\\n-var outfile = path.join(__dirname, '../shelly/plotlyjs/static/plotlyjs/build/plotlyjs-bundle.js');\\n-\\n-var testFile = './test';\\n-\\n-switch(process.argv[2]) {\\n-  case 'geo':\\n-    testFile = './test-geo';\\n-  break;\\n-  case '2d':\\n-    testFile = './test-2d';\\n-  break;\\n-}\\n-\\n-console.log('using ' + testFile);\\n-\\n-var b = browserify(path.join(__dirname, '../shelly/plotlyjs/static/plotlyjs/src/plotly.js'), {\\n-  debug: true,\\n-  verbose: true,\\n-  standalone: 'Plotly',\\n-  transform: path.join(__dirname, '../shelly/plotlyjs/static/plotlyjs/compress_attributes.js'),\\n-  cache: {},\\n-  packageCache: {}\\n-});\\n-\\n-\\n-var w = watchify(b);\\n \\n-var bytes, time;\\n-w.on('bytes', function (b) { bytes = b });\\n-w.on('time', function (t) { time = t });\\n-\\n-w.on('update', bundle);\\n-bundle();\\n+var browserify = require('browserify');\\n+var ecstatic = require('ecstatic');\\n+var _open = require('open');\\n \\n-var firstBundle = true;\\n+var makeWatchifiedBundle = require('../../tasks/util/make_watchified_bundle');\\n+var shortcutPaths = require('../../tasks/util/shortcut_paths');\\n+var constants = require('../../tasks/util/constants');\\n \\n-function bundle () {\\n-    var didError = false;\\n-    var outStream = process.platform === 'win32'\\n-        ? fs.createWriteStream(outfile)\\n-        : outpipe(outfile);\\n \\n-    var wb = w.bundle();\\n-    wb.on('error', function (err) {\\n-        console.error(String(err));\\n-        didError = true;\\n-        outStream.end('console.error('+JSON.stringify(String(err))+');');\\n-    });\\n-    wb.pipe(outStream);\\n+// TODO make this an optional argument\\n+var PORT = '8080';\\n \\n-    outStream.on('error', function (err) {\\n-        console.error(err);\\n-    });\\n-    outStream.on('close', function () {\\n-        if (!didError) {\\n-            console.error(bytes + ' bytes written to ' + outfile\\n-                + ' (' + (time / 1000).toFixed(2) + ' seconds)'\\n-            );\\n-            if(firstBundle) {\\n-              open('http://localhost:8080/test-dashboard');\\n-              firstBundle = false;\\n-            }\\n-        }\\n-    });\\n+var testFile;\\n+switch(process.argv[2]) {\\n+    case 'geo':\\n+        testFile = './test-geo';\\n+    break;\\n+    case '2d':\\n+        testFile = './test-2d';\\n+    break;\\n+    default:\\n+        testFile = './test-3d';\\n }\\n \\n-////// build the test examples\\n+console.log('Using ' + testFile);\\n+console.log('Listening on :' + PORT + '\\\\n');\\n \\n-fs.unlink('./test-bundle.js', function(error) {\\n-    browserify({\\n+// watch plotly.js\\n+var watchifiedBundle = makeWatchifiedBundle(function onFirstBundleCallback() {\\n+    _open('http://localhost:' + PORT + '/devtools/test_dashboard');\\n+});\\n+watchifiedBundle();\", \"the test dashboard server script uses the same watch-bundling machinery as `npm run watch` \\n:palm_tree: :palm_tree: \\n\", \"2abf31f5cb19b7cca9a4944ee506fe716ec44442\", \"JavaScript\")"
   ]
  },
  {
   "cell_type": "markdown",
   "metadata": {},
   "source": [
    "### Connecting to the Vector Database"
   ]
  },
  {
   "cell_type": "code",
   "execution_count": 64,
   "metadata": {},
   "outputs": [
    {
     "name": "stderr",
     "output_type": "stream",
     "text": [
      "c:\\Users\\louis\\anaconda3\\envs\\MachineLearning\\Lib\\site-packages\\pinecone\\index.py:4: TqdmExperimentalWarning: Using `tqdm.autonotebook.tqdm` in notebook mode. Use `tqdm.tqdm` instead to force console mode (e.g. in jupyter console)\n",
      "  from tqdm.autonotebook import tqdm\n"
     ]
    }
   ],
   "source": [
    "import pinecone\n",
    "\n",
    "pinecone.init(\n",
    "    api_key=str(PINECONE_API_KEY),\n",
    "    environment='gcp-starter'\n",
    ")"
   ]
  },
  {
   "cell_type": "markdown",
   "metadata": {},
   "source": [
    "#### In case we need to delete and recreate the index to start fresh"
   ]
  },
  {
   "cell_type": "code",
   "execution_count": 69,
   "metadata": {},
   "outputs": [],
   "source": [
    "# pinecone.delete_index('review-owl')\n",
    "# pinecone.create_index('review-owl', dimension=384, metric='euclidean', pods=1, pod_type='starter')"
   ]
  },
  {
   "cell_type": "code",
   "execution_count": 70,
   "metadata": {},
   "outputs": [
    {
     "data": {
      "text/plain": [
       "{'dimension': 384,\n",
       " 'index_fullness': 0.0,\n",
       " 'namespaces': {},\n",
       " 'total_vector_count': 0}"
      ]
     },
     "execution_count": 70,
     "metadata": {},
     "output_type": "execute_result"
    }
   ],
   "source": [
    "PINECONE_POOL_THREADS = 30\n",
    "index = pinecone.Index('review-owl', pool_threads=PINECONE_POOL_THREADS)\n",
    "index.describe_index_stats()"
   ]
  },
  {
   "cell_type": "markdown",
   "metadata": {},
   "source": [
    "### Loading the models for running feature extraction locally"
   ]
  },
  {
   "cell_type": "code",
   "execution_count": null,
   "metadata": {},
   "outputs": [],
   "source": [
    "# from sentence_transformers import SentenceTransformer\n",
    "# # model = SentenceTransformer('BAAI/bge-large-en-v1.5')\n",
    "# model = SentenceTransformer('BAAI/bge-small-en-v1.5')\n",
    "\n",
    "# # alternative embedding model to consider\n",
    "# # model = SentenceTransformer('BAAI/llm-embedder')"
   ]
  },
  {
   "cell_type": "markdown",
   "metadata": {},
   "source": [
    "### Functions for loading the datasets"
   ]
  },
  {
   "cell_type": "code",
   "execution_count": 71,
   "metadata": {},
   "outputs": [],
   "source": [
    "# importing a specific repo dataset by finding all the files starting with the index number and a dash\n",
    "import glob\n",
    "\n",
    "# getting the index number from the file name\n",
    "def get_index_number(file):\n",
    "    \"\"\"A helper function to get the index number from the file name.\"\"\"\n",
    "    return int(file.split('\\\\')[1].split('-')[0])\n",
    "\n",
    "def import_filepaths(folder_path: str):\n",
    "    # getting all the files in the directory\n",
    "    file_paths = glob.glob(folder_path)\n",
    "\n",
    "    # sorting the files by the index number\n",
    "    sorted_filepaths = sorted(file_paths, key=get_index_number)\n",
    "\n",
    "    return sorted_filepaths"
   ]
  },
  {
   "cell_type": "markdown",
   "metadata": {},
   "source": [
    "### Functions for embedding"
   ]
  },
  {
   "cell_type": "code",
   "execution_count": 72,
   "metadata": {},
   "outputs": [],
   "source": [
    "from tqdm.auto import tqdm\n",
    "import pandas as pd\n",
    "import json\n",
    "import requests\n",
    "import time\n",
    "import random\n",
    "import itertools\n",
    "\n",
    "# API_URL = \"https://api-inference.huggingface.co/models/BAAI/bge-base-en-v1.5\"\n",
    "# API_URL = \"https://api-inference.huggingface.co/models/BAAI/bge-large-en-v1.5\"\n",
    "API_URL = \"https://api-inference.huggingface.co/models/BAAI/bge-small-en-v1.5\"\n",
    "# API_URL = \"https://api-inference.huggingface.co/models/BAAI/llm-embedder\"\n",
    "headers = {\"Authorization\": f\"Bearer {HUGGINGFACE_API_KEY}\"}\n",
    "\n",
    "def file_to_embedding_inputs(file_path: str):\n",
    "    embedding_input = []\n",
    "    \n",
    "    data = pd.read_json(file_path, orient='index')\n",
    "    for row in tqdm(data.iloc[:, 0], 'Splitting file into payloads'):\n",
    "        embedding_input.append('path: ' + row['path'] + '\\n' + 'diff_hunk: ' + row['diff_hunk'])\n",
    "    \n",
    "    return embedding_input\n",
    "\n",
    "def huggingface_inference_api_request(payload: list[str], payload_size: int = 1000):\n",
    "    try:\n",
    "        rejoined_list = []\n",
    "        for i in tqdm(range(0, len(payload), payload_size), 'Making requests to HuggingFace API'):\n",
    "            payload_slice = payload[i:i + payload_size]\n",
    "            data = json.dumps(payload_slice)\n",
    "            response = requests.request(\"POST\", API_URL, headers=headers, data=data)\n",
    "\n",
    "            if ('Rate limit reached' in response.content.decode(\"utf-8\")):\n",
    "                raise Exception('Rate limit reached')\n",
    "            while (response.status_code != 200 and 'is currently loading' in response.content.decode(\"utf-8\")):\n",
    "                logging.info(f'Waiting for 30 seconds. Reponse: {response.content.decode(\"utf-8\")}')\n",
    "                time.sleep(30)\n",
    "                response = requests.request(\"POST\", API_URL, headers=headers, data=data)\n",
    "\n",
    "            for v in json.loads(response.content.decode(\"utf-8\")):\n",
    "                rejoined_list.append(v)\n",
    "\n",
    "        return rejoined_list\n",
    "    except Exception as e:\n",
    "        print(e)\n",
    "        return e\n",
    "\n",
    "def make_huggingface_request_with_backoff(payload: list[str]):\n",
    "    max_retries = 10\n",
    "    retries = 0\n",
    "\n",
    "    while retries < max_retries:\n",
    "        try:\n",
    "            response = huggingface_inference_api_request(payload, 200)\n",
    "            if (response is Exception): raise response\n",
    "            return response\n",
    "        except requests.HTTPError as e:\n",
    "            print('HTTP error: ' + str(e.response.status_code))\n",
    "            if e.response.status_code == 503:\n",
    "                wait_time = (2 ** retries) + (random.uniform(0, 1) * 0.1)  # Exponential backoff with random jitter\n",
    "                time.sleep(wait_time)\n",
    "                retries += 1\n",
    "            else:\n",
    "                print('Error: ' + str(e))\n",
    "                raise e\n",
    "        except Exception as e:\n",
    "            if (e == 'Rate limit reached'):\n",
    "                print('Rate limit reached, waiting for 10 minutes')\n",
    "                time.sleep(60 * 10) # wait for 10 minutes to try again\n",
    "                retries = 0\n",
    "                pass\n",
    "            logging.error(e)\n",
    "            retries += 1\n",
    "\n",
    "    logging.error('Max retries exceeded')\n",
    "    raise Exception(\"Max retries exceeded\")"
   ]
  },
  {
   "cell_type": "markdown",
   "metadata": {},
   "source": [
    "### Functions for generating the info that will be saved in the database"
   ]
  },
  {
   "cell_type": "code",
   "execution_count": 141,
   "metadata": {},
   "outputs": [],
   "source": [
    "import hashlib\n",
    "\n",
    "def hash_id(id):\n",
    "    return hashlib.sha256(id.encode('utf-8')).hexdigest()\n",
    "\n",
    "# Function to check if vector ID matches PR information.\n",
    "def check_vector_id_match(repo_name: str, pr_id: int, vector_id: str):\n",
    "    gen_id = repo_name + '-' + hash_id(repo_name + str(pr_id))\n",
    "    return gen_id == vector_id"
   ]
  },
  {
   "cell_type": "code",
   "execution_count": 142,
   "metadata": {},
   "outputs": [],
   "source": [
    "def generate_pr_info(file_path: str, generated_vector_data: list[tuple[str, list, dict]], language: str):\n",
    "    pr_info = []\n",
    "\n",
    "    data = pd.read_json(file_path, orient='index')\n",
    "\n",
    "    for i, row in tqdm(enumerate(data.iloc[:, 0]), 'Generating PR info'):\n",
    "        if (check_vector_id_match(data.columns[0], row['id'], generated_vector_data[i][0])):\n",
    "            # (vector_id, pr_id, repo_name, html_url, file_path, line, user, diff_hunk, body, commit_id, language)\n",
    "            pr_info.append({'vector_id': generated_vector_data[i][0], 'pr_id': row['id'], 'repo_name': data.columns[0], 'html_url': row['html_url'], 'file_path': row['path'], 'line': row['line'], 'user': row['user'], 'diff_hunk': row['diff_hunk'], 'body': row['body'], 'commit_id': row['commit_id'], 'language': language})\n",
    "        else:\n",
    "            raise Exception('Vector IDs dont match')\n",
    "\n",
    "    return pr_info"
   ]
  },
  {
   "cell_type": "markdown",
   "metadata": {},
   "source": [
    "### Functions that go from raw data to processed embeddings"
   ]
  },
  {
   "cell_type": "code",
   "execution_count": 144,
   "metadata": {},
   "outputs": [],
   "source": [
    "import threading\n",
    "import queue\n",
    "\n",
    "def measure_metadata_size(metadata_list: list[dict]):\n",
    "    return [len(str(metadata)) for metadata in metadata_list]\n",
    "\n",
    "def generate_metadata(file_path: str):\n",
    "    metadata_list = []\n",
    "    data = pd.read_json(file_path, orient='index')\n",
    "\n",
    "    for row in data.iloc[:, 0]:\n",
    "        metadata_list.append({'id': row['id'],'repo': data.columns[0],'path': row['path']})\n",
    "    \n",
    "    metadata_size_list = measure_metadata_size(metadata_list)\n",
    "    for metadata_size in metadata_size_list:\n",
    "        if (metadata_size > 40960):\n",
    "            logging.error(f\"Metadata size is greater than 40960 bytes at {metadata_size} bytes at index: {metadata_size_list.index(metadata_size)}.\\nfile: {file_path}.\")\n",
    "\n",
    "    return metadata_list\n",
    "\n",
    "def generate_vector_ids(metadata_list: list[dict]):\n",
    "    ids = []\n",
    "    for i in range(len(metadata_list)):\n",
    "        ids.append(metadata_list[i]['repo'] + '-' + hash_id(metadata_list[i]['repo'] + str(metadata_list[i]['id'])))\n",
    "    return ids\n",
    "\n",
    "def embed_file(file_path: str):\n",
    "    vectors_list = []\n",
    "    embedding_inputs_list = file_to_embedding_inputs(file_path)\n",
    "\n",
    "    vectors_list = make_huggingface_request_with_backoff(embedding_inputs_list)\n",
    "\n",
    "    # code for running the embedding model locally\n",
    "    # for payload in tqdm(embedding_inputs_list, 'Generating vector embeddings'):\n",
    "        # vectors_list.append(model.encode(payload).tolist())\n",
    "    \n",
    "    return vectors_list\n",
    "\n",
    "def generate_upsert_data(file_path: str):\n",
    "    embedding_result = embed_file(file_path)\n",
    "    metadata_list = generate_metadata(file_path)\n",
    "    vector_ids = generate_vector_ids(metadata_list)\n",
    "\n",
    "    upsert_data = list(zip(vector_ids, embedding_result, metadata_list))\n",
    "\n",
    "    return upsert_data"
   ]
  },
  {
   "cell_type": "markdown",
   "metadata": {},
   "source": [
    "### Putting everything together with multithreading"
   ]
  },
  {
   "cell_type": "code",
   "execution_count": 139,
   "metadata": {},
   "outputs": [],
   "source": [
    "def split_into_chunks(iterable: list, batch_size=100):\n",
    "    \"\"\"A helper function to break an iterable into chunks of size batch_size.\"\"\"\n",
    "    it = iter(iterable)\n",
    "    chunks = []\n",
    "    for i in range(0, len(iterable), batch_size):\n",
    "        chunks.append(list(itertools.islice(it, batch_size)))\n",
    "\n",
    "    return chunks"
   ]
  },
  {
   "cell_type": "code",
   "execution_count": 145,
   "metadata": {},
   "outputs": [],
   "source": [
    "def worker(file_queue: queue.Queue):\n",
    "    while True:\n",
    "        file_path = file_queue.get()\n",
    "        if file_path is None:\n",
    "            break\n",
    "\n",
    "        upsert_data = generate_upsert_data(file_path)\n",
    "\n",
    "        upsert_data_chunks = split_into_chunks(upsert_data)\n",
    "\n",
    "        for chunk in tqdm(upsert_data_chunks, 'Uploading data to Pinecone'):\n",
    "            index.upsert(chunk)\n",
    "\n",
    "        for row in generate_pr_info(file_path, upsert_data, 'JavaScript'):\n",
    "            # (vector_id, pr_id, repo_name, html_url, file_path, line, user, diff_hunk, body, commit_id, language)\n",
    "            insert_or_update_pr_info(row['vector_id'], row['id'], row['repo'], row['html_url'], row['path'], row['line'], row['user'], row['diff'], row['body'], row['commit_id'], row['language'])\n",
    "        \n",
    "        logging.info(f\"Logging: {file_path} processed\")\n",
    "\n",
    "        file_queue.task_done()\n",
    "\n",
    "# Function to create and manage worker threads\n",
    "def create_worker_threads(num_threads: int, file_queue: queue.Queue):\n",
    "    threads = list[threading.Thread]()\n",
    "\n",
    "    for _ in range(num_threads):\n",
    "        thread = threading.Thread(target=worker, args=(file_queue,))\n",
    "        thread.start()\n",
    "        threads.append(thread)\n",
    "\n",
    "    return threads\n",
    "\n",
    "# Main function to process files using multiple threads\n",
    "def process_files_with_threads(file_names: list[str], num_threads: int, start: int = 0, end=None):\n",
    "    # Create a thread-safe queue\n",
    "    file_queue = queue.Queue()\n",
    "\n",
    "    # Populate the queue with file names\n",
    "    for file_name in file_names[start:end]:\n",
    "        file_queue.put(file_name)\n",
    "\n",
    "    # Create worker threads\n",
    "    threads = create_worker_threads(num_threads, file_queue)\n",
    "\n",
    "    # Wait for all file processing to be completed\n",
    "    file_queue.join()\n",
    "\n",
    "    # Stop the worker threads\n",
    "    for _ in range(num_threads):\n",
    "        file_queue.put(None)\n",
    "\n",
    "    for thread in threads:\n",
    "        thread.join()\n",
    "\n",
    "    logging.info(\"All files processed.\")"
   ]
  },
  {
   "cell_type": "code",
   "execution_count": null,
   "metadata": {},
   "outputs": [],
   "source": [
    "# # For testing\n",
    "# file_paths = import_filepaths('D:/GitHub/review-owl-datasets/dataset/mined-comments-25stars-25prs-JavaScript.json/repo-split/*.json')\n",
    "# e0 = file_to_embedding_inputs(file_paths[500])\n",
    "# u1 = generate_upsert_data(file_paths[500])"
   ]
  },
  {
   "cell_type": "code",
   "execution_count": 83,
   "metadata": {},
   "outputs": [
    {
     "data": {
      "application/vnd.jupyter.widget-view+json": {
       "model_id": "c64118aeb5e348939a14ab31a15ec67a",
       "version_major": 2,
       "version_minor": 0
      },
      "text/plain": [
       "Making requests to HuggingFace API:   0%|          | 0/2 [00:00<?, ?it/s]"
      ]
     },
     "metadata": {},
     "output_type": "display_data"
    }
   ],
   "source": [
    "# e1 = huggingface_inference_api_request(e0, 200)"
   ]
  },
  {
   "cell_type": "code",
   "execution_count": 79,
   "metadata": {},
   "outputs": [
    {
     "data": {
      "text/plain": [
       "int"
      ]
     },
     "execution_count": 79,
     "metadata": {},
     "output_type": "execute_result"
    }
   ],
   "source": [
    "# m1 = generate_metadata(file_paths[500])\n",
    "# type(m1[0]['id'])"
   ]
  },
  {
   "cell_type": "code",
   "execution_count": null,
   "metadata": {},
   "outputs": [],
   "source": [
    "# m1[0]['repo']"
   ]
  },
  {
   "cell_type": "code",
   "execution_count": 81,
   "metadata": {},
   "outputs": [],
   "source": [
    "# v1 = generate_vector_ids(m1)"
   ]
  },
  {
   "cell_type": "code",
   "execution_count": 84,
   "metadata": {},
   "outputs": [],
   "source": [
    "# z1 = list(zip(v1, e1, m1))"
   ]
  },
  {
   "cell_type": "code",
   "execution_count": 92,
   "metadata": {},
   "outputs": [
    {
     "name": "stdout",
     "output_type": "stream",
     "text": [
      "<class 'list'>\n",
      "<class 'tuple'>\n",
      "<class 'str'>\n",
      "<class 'list'>\n",
      "<class 'dict'>\n"
     ]
    }
   ],
   "source": [
    "# print(type(z1))\n",
    "# print(type(z1[0]))\n",
    "# print(type(z1[0][0]))\n",
    "# print(type(z1[0][1]))\n",
    "# print(type(z1[0][2]))"
   ]
  },
  {
   "cell_type": "code",
   "execution_count": null,
   "metadata": {},
   "outputs": [],
   "source": [
    "# hash_id(m1[0]['repo'] + '0')"
   ]
  },
  {
   "cell_type": "code",
   "execution_count": null,
   "metadata": {},
   "outputs": [],
   "source": [
    "# z1"
   ]
  },
  {
   "cell_type": "code",
   "execution_count": null,
   "metadata": {},
   "outputs": [],
   "source": [
    "# upsert_data_chunks = split_into_chunks(z1)\n",
    "\n",
    "# for chunk in tqdm(upsert_data_chunks, 'Uploading data to Pinecone'):\n",
    "#     index.upsert(chunk)"
   ]
  },
  {
   "cell_type": "code",
   "execution_count": null,
   "metadata": {},
   "outputs": [],
   "source": [
    "# upsert_data = generate_upsert_data(file_paths[0])\n",
    "# upsert_data_chunks = split_into_chunks(upsert_data)"
   ]
  },
  {
   "cell_type": "code",
   "execution_count": 146,
   "metadata": {},
   "outputs": [
    {
     "data": {
      "text/plain": [
       "{'dimension': 384,\n",
       " 'index_fullness': 0.0,\n",
       " 'namespaces': {},\n",
       " 'total_vector_count': 0}"
      ]
     },
     "execution_count": 146,
     "metadata": {},
     "output_type": "execute_result"
    }
   ],
   "source": [
    "index.describe_index_stats()"
   ]
  },
  {
   "cell_type": "code",
   "execution_count": null,
   "metadata": {},
   "outputs": [],
   "source": [
    "file_paths = import_filepaths('D:/GitHub/review-owl-datasets/dataset/mined-comments-25stars-25prs-JavaScript.json/repo-split/*.json')\n",
    "process_files_with_threads(file_names=file_paths, num_threads=1, start=500, end=510)"
   ]
  }
 ],
 "metadata": {
  "kernelspec": {
   "display_name": "MachineLearning",
   "language": "python",
   "name": "python3"
  },
  "language_info": {
   "codemirror_mode": {
    "name": "ipython",
    "version": 3
   },
   "file_extension": ".py",
   "mimetype": "text/x-python",
   "name": "python",
   "nbconvert_exporter": "python",
   "pygments_lexer": "ipython3",
   "version": "3.11.2"
  }
 },
 "nbformat": 4,
 "nbformat_minor": 2
}
