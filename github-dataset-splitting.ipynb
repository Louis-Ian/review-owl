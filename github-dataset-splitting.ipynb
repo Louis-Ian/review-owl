{
 "cells": [
  {
   "cell_type": "markdown",
   "metadata": {},
   "source": [
    "# GitHub Pull Requests dataset\n",
    "## The dataset\n",
    "The dataset used for the base level knowledge augmentation can be found at\n",
    "https://www.kaggle.com/datasets/pelmers/github-public-pull-request-comments.\n",
    "\n",
    "It contains JSONs of Pull Request (file paths, comments, and diffs, among other things) from  mined from permissively-licensed GitHub public projects with at least 25 stars and 25 pull requests submitted at the time of access and covers Go, Java, JavaScript, TypeScript, and Python.\n",
    "\n",
    "## Data pipeline\n",
    "The task of this notebook is to ingest each Pull Request in the dataset, embed it using a feature extraction model, and upload it to a vector database in order to enable Retrieval Augmented Generation (RAG).\n",
    "Given the size of the overall dataset (over 30GB), this notebook will focus on the JavaScript portion of the dataset as a proof of concept."
   ]
  },
  {
   "cell_type": "markdown",
   "metadata": {},
   "source": [
    "### Data treatment\n",
    "Some level of treatment of the data is necessary given that:\n",
    "- All the data is present in a single json file, which is a barrier to parallelization of the embeddings upload\n",
    "- And although they fit the 25 start and 25 pull request requirement to be mined, for various reasons including PRs not being related to code covered by the dataset, some repositories present in the dataset had no data\n",
    "\n",
    "So in this notebook the subdataset is split into a json file for each repository in a manner that will facilitate future data processing pipelines of those files."
   ]
  },
  {
   "cell_type": "code",
   "execution_count": 1,
   "metadata": {},
   "outputs": [],
   "source": [
    "from tqdm.auto import tqdm\n",
    "import pandas as pd\n",
    "\n",
    "df = pd.read_json('dataset/mined-comments-25stars-25prs-JavaScript.json/mined-comments-25stars-25prs-JavaScript.json', orient='index')"
   ]
  },
  {
   "cell_type": "code",
   "execution_count": 2,
   "metadata": {},
   "outputs": [
    {
     "data": {
      "text/plain": [
       "(28835, 9224)"
      ]
     },
     "execution_count": 2,
     "metadata": {},
     "output_type": "execute_result"
    }
   ],
   "source": [
    "# checking how many rows it had before\n",
    "df.shape"
   ]
  },
  {
   "cell_type": "code",
   "execution_count": 3,
   "metadata": {},
   "outputs": [],
   "source": [
    "# remove any row that has not data\n",
    "df = df.dropna(axis=0, how='all')"
   ]
  },
  {
   "cell_type": "code",
   "execution_count": 4,
   "metadata": {},
   "outputs": [
    {
     "data": {
      "text/plain": [
       "(7366, 9224)"
      ]
     },
     "execution_count": 4,
     "metadata": {},
     "output_type": "execute_result"
    }
   ],
   "source": [
    "# checking how many rows it had after\n",
    "df.shape"
   ]
  },
  {
   "cell_type": "code",
   "execution_count": 5,
   "metadata": {},
   "outputs": [
    {
     "data": {
      "text/html": [
       "<div>\n",
       "<style scoped>\n",
       "    .dataframe tbody tr th:only-of-type {\n",
       "        vertical-align: middle;\n",
       "    }\n",
       "\n",
       "    .dataframe tbody tr th {\n",
       "        vertical-align: top;\n",
       "    }\n",
       "\n",
       "    .dataframe thead th {\n",
       "        text-align: right;\n",
       "    }\n",
       "</style>\n",
       "<table border=\"1\" class=\"dataframe\">\n",
       "  <thead>\n",
       "    <tr style=\"text-align: right;\">\n",
       "      <th></th>\n",
       "      <th>0</th>\n",
       "      <th>1</th>\n",
       "      <th>2</th>\n",
       "      <th>3</th>\n",
       "      <th>4</th>\n",
       "      <th>5</th>\n",
       "      <th>6</th>\n",
       "      <th>7</th>\n",
       "      <th>8</th>\n",
       "      <th>9</th>\n",
       "      <th>...</th>\n",
       "      <th>9214</th>\n",
       "      <th>9215</th>\n",
       "      <th>9216</th>\n",
       "      <th>9217</th>\n",
       "      <th>9218</th>\n",
       "      <th>9219</th>\n",
       "      <th>9220</th>\n",
       "      <th>9221</th>\n",
       "      <th>9222</th>\n",
       "      <th>9223</th>\n",
       "    </tr>\n",
       "  </thead>\n",
       "  <tbody>\n",
       "    <tr>\n",
       "      <th>trekhleb/javascript-algorithms</th>\n",
       "      <td>{'html_url': 'https://github.com/trekhleb/java...</td>\n",
       "      <td>{'html_url': 'https://github.com/trekhleb/java...</td>\n",
       "      <td>{'html_url': 'https://github.com/trekhleb/java...</td>\n",
       "      <td>{'html_url': 'https://github.com/trekhleb/java...</td>\n",
       "      <td>{'html_url': 'https://github.com/trekhleb/java...</td>\n",
       "      <td>{'html_url': 'https://github.com/trekhleb/java...</td>\n",
       "      <td>{'html_url': 'https://github.com/trekhleb/java...</td>\n",
       "      <td>{'html_url': 'https://github.com/trekhleb/java...</td>\n",
       "      <td>{'html_url': 'https://github.com/trekhleb/java...</td>\n",
       "      <td>{'html_url': 'https://github.com/trekhleb/java...</td>\n",
       "      <td>...</td>\n",
       "      <td>None</td>\n",
       "      <td>None</td>\n",
       "      <td>None</td>\n",
       "      <td>None</td>\n",
       "      <td>None</td>\n",
       "      <td>None</td>\n",
       "      <td>None</td>\n",
       "      <td>None</td>\n",
       "      <td>None</td>\n",
       "      <td>None</td>\n",
       "    </tr>\n",
       "    <tr>\n",
       "      <th>airbnb/javascript</th>\n",
       "      <td>{'html_url': 'https://github.com/airbnb/javasc...</td>\n",
       "      <td>{'html_url': 'https://github.com/airbnb/javasc...</td>\n",
       "      <td>{'html_url': 'https://github.com/airbnb/javasc...</td>\n",
       "      <td>{'html_url': 'https://github.com/airbnb/javasc...</td>\n",
       "      <td>{'html_url': 'https://github.com/airbnb/javasc...</td>\n",
       "      <td>{'html_url': 'https://github.com/airbnb/javasc...</td>\n",
       "      <td>{'html_url': 'https://github.com/airbnb/javasc...</td>\n",
       "      <td>{'html_url': 'https://github.com/airbnb/javasc...</td>\n",
       "      <td>{'html_url': 'https://github.com/airbnb/javasc...</td>\n",
       "      <td>{'html_url': 'https://github.com/airbnb/javasc...</td>\n",
       "      <td>...</td>\n",
       "      <td>None</td>\n",
       "      <td>None</td>\n",
       "      <td>None</td>\n",
       "      <td>None</td>\n",
       "      <td>None</td>\n",
       "      <td>None</td>\n",
       "      <td>None</td>\n",
       "      <td>None</td>\n",
       "      <td>None</td>\n",
       "      <td>None</td>\n",
       "    </tr>\n",
       "    <tr>\n",
       "      <th>twbs/bootstrap</th>\n",
       "      <td>{'html_url': 'https://github.com/twbs/bootstra...</td>\n",
       "      <td>{'html_url': 'https://github.com/twbs/bootstra...</td>\n",
       "      <td>{'html_url': 'https://github.com/twbs/bootstra...</td>\n",
       "      <td>{'html_url': 'https://github.com/twbs/bootstra...</td>\n",
       "      <td>{'html_url': 'https://github.com/twbs/bootstra...</td>\n",
       "      <td>{'html_url': 'https://github.com/twbs/bootstra...</td>\n",
       "      <td>{'html_url': 'https://github.com/twbs/bootstra...</td>\n",
       "      <td>{'html_url': 'https://github.com/twbs/bootstra...</td>\n",
       "      <td>{'html_url': 'https://github.com/twbs/bootstra...</td>\n",
       "      <td>{'html_url': 'https://github.com/twbs/bootstra...</td>\n",
       "      <td>...</td>\n",
       "      <td>None</td>\n",
       "      <td>None</td>\n",
       "      <td>None</td>\n",
       "      <td>None</td>\n",
       "      <td>None</td>\n",
       "      <td>None</td>\n",
       "      <td>None</td>\n",
       "      <td>None</td>\n",
       "      <td>None</td>\n",
       "      <td>None</td>\n",
       "    </tr>\n",
       "    <tr>\n",
       "      <th>30-seconds/30-seconds-of-code</th>\n",
       "      <td>{'html_url': 'https://github.com/30-seconds/30...</td>\n",
       "      <td>{'html_url': 'https://github.com/30-seconds/30...</td>\n",
       "      <td>{'html_url': 'https://github.com/30-seconds/30...</td>\n",
       "      <td>{'html_url': 'https://github.com/30-seconds/30...</td>\n",
       "      <td>{'html_url': 'https://github.com/30-seconds/30...</td>\n",
       "      <td>{'html_url': 'https://github.com/30-seconds/30...</td>\n",
       "      <td>{'html_url': 'https://github.com/30-seconds/30...</td>\n",
       "      <td>{'html_url': 'https://github.com/30-seconds/30...</td>\n",
       "      <td>{'html_url': 'https://github.com/30-seconds/30...</td>\n",
       "      <td>{'html_url': 'https://github.com/30-seconds/30...</td>\n",
       "      <td>...</td>\n",
       "      <td>None</td>\n",
       "      <td>None</td>\n",
       "      <td>None</td>\n",
       "      <td>None</td>\n",
       "      <td>None</td>\n",
       "      <td>None</td>\n",
       "      <td>None</td>\n",
       "      <td>None</td>\n",
       "      <td>None</td>\n",
       "      <td>None</td>\n",
       "    </tr>\n",
       "    <tr>\n",
       "      <th>d3/d3</th>\n",
       "      <td>{'html_url': 'https://github.com/d3/d3/pull/10...</td>\n",
       "      <td>{'html_url': 'https://github.com/d3/d3/pull/10...</td>\n",
       "      <td>{'html_url': 'https://github.com/d3/d3/pull/10...</td>\n",
       "      <td>{'html_url': 'https://github.com/d3/d3/pull/10...</td>\n",
       "      <td>{'html_url': 'https://github.com/d3/d3/pull/10...</td>\n",
       "      <td>{'html_url': 'https://github.com/d3/d3/pull/10...</td>\n",
       "      <td>{'html_url': 'https://github.com/d3/d3/pull/10...</td>\n",
       "      <td>{'html_url': 'https://github.com/d3/d3/pull/10...</td>\n",
       "      <td>{'html_url': 'https://github.com/d3/d3/pull/10...</td>\n",
       "      <td>{'html_url': 'https://github.com/d3/d3/pull/10...</td>\n",
       "      <td>...</td>\n",
       "      <td>None</td>\n",
       "      <td>None</td>\n",
       "      <td>None</td>\n",
       "      <td>None</td>\n",
       "      <td>None</td>\n",
       "      <td>None</td>\n",
       "      <td>None</td>\n",
       "      <td>None</td>\n",
       "      <td>None</td>\n",
       "      <td>None</td>\n",
       "    </tr>\n",
       "  </tbody>\n",
       "</table>\n",
       "<p>5 rows × 9224 columns</p>\n",
       "</div>"
      ],
      "text/plain": [
       "                                                                             0     \\\n",
       "trekhleb/javascript-algorithms  {'html_url': 'https://github.com/trekhleb/java...   \n",
       "airbnb/javascript               {'html_url': 'https://github.com/airbnb/javasc...   \n",
       "twbs/bootstrap                  {'html_url': 'https://github.com/twbs/bootstra...   \n",
       "30-seconds/30-seconds-of-code   {'html_url': 'https://github.com/30-seconds/30...   \n",
       "d3/d3                           {'html_url': 'https://github.com/d3/d3/pull/10...   \n",
       "\n",
       "                                                                             1     \\\n",
       "trekhleb/javascript-algorithms  {'html_url': 'https://github.com/trekhleb/java...   \n",
       "airbnb/javascript               {'html_url': 'https://github.com/airbnb/javasc...   \n",
       "twbs/bootstrap                  {'html_url': 'https://github.com/twbs/bootstra...   \n",
       "30-seconds/30-seconds-of-code   {'html_url': 'https://github.com/30-seconds/30...   \n",
       "d3/d3                           {'html_url': 'https://github.com/d3/d3/pull/10...   \n",
       "\n",
       "                                                                             2     \\\n",
       "trekhleb/javascript-algorithms  {'html_url': 'https://github.com/trekhleb/java...   \n",
       "airbnb/javascript               {'html_url': 'https://github.com/airbnb/javasc...   \n",
       "twbs/bootstrap                  {'html_url': 'https://github.com/twbs/bootstra...   \n",
       "30-seconds/30-seconds-of-code   {'html_url': 'https://github.com/30-seconds/30...   \n",
       "d3/d3                           {'html_url': 'https://github.com/d3/d3/pull/10...   \n",
       "\n",
       "                                                                             3     \\\n",
       "trekhleb/javascript-algorithms  {'html_url': 'https://github.com/trekhleb/java...   \n",
       "airbnb/javascript               {'html_url': 'https://github.com/airbnb/javasc...   \n",
       "twbs/bootstrap                  {'html_url': 'https://github.com/twbs/bootstra...   \n",
       "30-seconds/30-seconds-of-code   {'html_url': 'https://github.com/30-seconds/30...   \n",
       "d3/d3                           {'html_url': 'https://github.com/d3/d3/pull/10...   \n",
       "\n",
       "                                                                             4     \\\n",
       "trekhleb/javascript-algorithms  {'html_url': 'https://github.com/trekhleb/java...   \n",
       "airbnb/javascript               {'html_url': 'https://github.com/airbnb/javasc...   \n",
       "twbs/bootstrap                  {'html_url': 'https://github.com/twbs/bootstra...   \n",
       "30-seconds/30-seconds-of-code   {'html_url': 'https://github.com/30-seconds/30...   \n",
       "d3/d3                           {'html_url': 'https://github.com/d3/d3/pull/10...   \n",
       "\n",
       "                                                                             5     \\\n",
       "trekhleb/javascript-algorithms  {'html_url': 'https://github.com/trekhleb/java...   \n",
       "airbnb/javascript               {'html_url': 'https://github.com/airbnb/javasc...   \n",
       "twbs/bootstrap                  {'html_url': 'https://github.com/twbs/bootstra...   \n",
       "30-seconds/30-seconds-of-code   {'html_url': 'https://github.com/30-seconds/30...   \n",
       "d3/d3                           {'html_url': 'https://github.com/d3/d3/pull/10...   \n",
       "\n",
       "                                                                             6     \\\n",
       "trekhleb/javascript-algorithms  {'html_url': 'https://github.com/trekhleb/java...   \n",
       "airbnb/javascript               {'html_url': 'https://github.com/airbnb/javasc...   \n",
       "twbs/bootstrap                  {'html_url': 'https://github.com/twbs/bootstra...   \n",
       "30-seconds/30-seconds-of-code   {'html_url': 'https://github.com/30-seconds/30...   \n",
       "d3/d3                           {'html_url': 'https://github.com/d3/d3/pull/10...   \n",
       "\n",
       "                                                                             7     \\\n",
       "trekhleb/javascript-algorithms  {'html_url': 'https://github.com/trekhleb/java...   \n",
       "airbnb/javascript               {'html_url': 'https://github.com/airbnb/javasc...   \n",
       "twbs/bootstrap                  {'html_url': 'https://github.com/twbs/bootstra...   \n",
       "30-seconds/30-seconds-of-code   {'html_url': 'https://github.com/30-seconds/30...   \n",
       "d3/d3                           {'html_url': 'https://github.com/d3/d3/pull/10...   \n",
       "\n",
       "                                                                             8     \\\n",
       "trekhleb/javascript-algorithms  {'html_url': 'https://github.com/trekhleb/java...   \n",
       "airbnb/javascript               {'html_url': 'https://github.com/airbnb/javasc...   \n",
       "twbs/bootstrap                  {'html_url': 'https://github.com/twbs/bootstra...   \n",
       "30-seconds/30-seconds-of-code   {'html_url': 'https://github.com/30-seconds/30...   \n",
       "d3/d3                           {'html_url': 'https://github.com/d3/d3/pull/10...   \n",
       "\n",
       "                                                                             9     \\\n",
       "trekhleb/javascript-algorithms  {'html_url': 'https://github.com/trekhleb/java...   \n",
       "airbnb/javascript               {'html_url': 'https://github.com/airbnb/javasc...   \n",
       "twbs/bootstrap                  {'html_url': 'https://github.com/twbs/bootstra...   \n",
       "30-seconds/30-seconds-of-code   {'html_url': 'https://github.com/30-seconds/30...   \n",
       "d3/d3                           {'html_url': 'https://github.com/d3/d3/pull/10...   \n",
       "\n",
       "                                ...  9214  9215  9216  9217  9218  9219  9220  \\\n",
       "trekhleb/javascript-algorithms  ...  None  None  None  None  None  None  None   \n",
       "airbnb/javascript               ...  None  None  None  None  None  None  None   \n",
       "twbs/bootstrap                  ...  None  None  None  None  None  None  None   \n",
       "30-seconds/30-seconds-of-code   ...  None  None  None  None  None  None  None   \n",
       "d3/d3                           ...  None  None  None  None  None  None  None   \n",
       "\n",
       "                                9221  9222  9223  \n",
       "trekhleb/javascript-algorithms  None  None  None  \n",
       "airbnb/javascript               None  None  None  \n",
       "twbs/bootstrap                  None  None  None  \n",
       "30-seconds/30-seconds-of-code   None  None  None  \n",
       "d3/d3                           None  None  None  \n",
       "\n",
       "[5 rows x 9224 columns]"
      ]
     },
     "execution_count": 5,
     "metadata": {},
     "output_type": "execute_result"
    }
   ],
   "source": [
    "df.head()"
   ]
  },
  {
   "cell_type": "code",
   "execution_count": 6,
   "metadata": {},
   "outputs": [
    {
     "data": {
      "text/plain": [
       "Index(['trekhleb/javascript-algorithms', 'airbnb/javascript', 'twbs/bootstrap',\n",
       "       '30-seconds/30-seconds-of-code', 'd3/d3', 'facebook/react',\n",
       "       'facebook/react-native', 'facebook/create-react-app', 'axios/axios',\n",
       "       'vercel/next.js',\n",
       "       ...\n",
       "       'ezsystems/ezoe', 'mac-/hapi-statsd', 'twinlabs/forum',\n",
       "       'strongloop/loopback-sdk-angular-cli', 'bem/bem-mvc',\n",
       "       'manguezal/manguezal.github.com', 'Ember-SC/peepcode-ordr-test',\n",
       "       'apache/cordova-coho', 'papandreou/node-jpegtran',\n",
       "       'meetup/meetup-web-components'],\n",
       "      dtype='object', length=7366)"
      ]
     },
     "execution_count": 6,
     "metadata": {},
     "output_type": "execute_result"
    }
   ],
   "source": [
    "df.index"
   ]
  },
  {
   "cell_type": "code",
   "execution_count": 7,
   "metadata": {},
   "outputs": [
    {
     "data": {
      "text/plain": [
       "RangeIndex(start=0, stop=9224, step=1)"
      ]
     },
     "execution_count": 7,
     "metadata": {},
     "output_type": "execute_result"
    }
   ],
   "source": [
    "df.columns"
   ]
  },
  {
   "cell_type": "code",
   "execution_count": 8,
   "metadata": {},
   "outputs": [
    {
     "data": {
      "application/vnd.jupyter.widget-view+json": {
       "model_id": "dbfd40c1dc5a4529831241293b552b38",
       "version_major": 2,
       "version_minor": 0
      },
      "text/plain": [
       "Separating data by repository:   0%|          | 0/7366 [00:00<?, ?it/s]"
      ]
     },
     "metadata": {},
     "output_type": "display_data"
    }
   ],
   "source": [
    "# saving each row of the df to a dataframe\n",
    "dfs = []\n",
    "for i in tqdm(range(len(df)), 'Separating data by repository'):\n",
    "    dfs.append(pd.DataFrame(df.iloc[i]).T)"
   ]
  },
  {
   "cell_type": "code",
   "execution_count": 9,
   "metadata": {},
   "outputs": [],
   "source": [
    "# deleting the df variable to save memory\n",
    "del df"
   ]
  },
  {
   "cell_type": "code",
   "execution_count": 10,
   "metadata": {},
   "outputs": [
    {
     "data": {
      "application/vnd.jupyter.widget-view+json": {
       "model_id": "713e40f3dd214ee08d0df7b591e262a9",
       "version_major": 2,
       "version_minor": 0
      },
      "text/plain": [
       "Removing empty cells:   0%|          | 0/7366 [00:00<?, ?it/s]"
      ]
     },
     "metadata": {},
     "output_type": "display_data"
    }
   ],
   "source": [
    "# dropping cells with empty data in each dataframe\n",
    "for i in tqdm(range(len(dfs)), 'Removing empty cells'):\n",
    "    dfs[i] = dfs[i].dropna(axis='columns', how='all')"
   ]
  },
  {
   "cell_type": "code",
   "execution_count": 11,
   "metadata": {},
   "outputs": [],
   "source": [
    "# ordering the dataframes by the number of PRs of each repository in descending order\n",
    "dfs = sorted(dfs, key=lambda x: len(x.columns), reverse=True)"
   ]
  },
  {
   "cell_type": "code",
   "execution_count": 12,
   "metadata": {},
   "outputs": [
    {
     "data": {
      "text/html": [
       "<div>\n",
       "<style scoped>\n",
       "    .dataframe tbody tr th:only-of-type {\n",
       "        vertical-align: middle;\n",
       "    }\n",
       "\n",
       "    .dataframe tbody tr th {\n",
       "        vertical-align: top;\n",
       "    }\n",
       "\n",
       "    .dataframe thead th {\n",
       "        text-align: right;\n",
       "    }\n",
       "</style>\n",
       "<table border=\"1\" class=\"dataframe\">\n",
       "  <thead>\n",
       "    <tr style=\"text-align: right;\">\n",
       "      <th></th>\n",
       "      <th>0</th>\n",
       "    </tr>\n",
       "  </thead>\n",
       "  <tbody>\n",
       "    <tr>\n",
       "      <th>manguezal/manguezal.github.com</th>\n",
       "      <td>{'html_url': 'https://github.com/manguezal/man...</td>\n",
       "    </tr>\n",
       "  </tbody>\n",
       "</table>\n",
       "</div>"
      ],
      "text/plain": [
       "                                                                                0\n",
       "manguezal/manguezal.github.com  {'html_url': 'https://github.com/manguezal/man..."
      ]
     },
     "execution_count": 12,
     "metadata": {},
     "output_type": "execute_result"
    }
   ],
   "source": [
    "dfs[len(dfs) - 1]"
   ]
  },
  {
   "cell_type": "code",
   "execution_count": 13,
   "metadata": {},
   "outputs": [
    {
     "data": {
      "text/plain": [
       "{'html_url': 'https://github.com/plotly/plotly.js/pull/1#discussion_r44735997',\n",
       " 'path': 'devtools/test_dashboard/server.js',\n",
       " 'line': 36,\n",
       " 'body': 'the test dashboard server script uses the same watch-bundling machinery as `npm run watch` \\n:palm_tree: :palm_tree: \\n',\n",
       " 'user': 'etpinard',\n",
       " 'diff_hunk': \"@@ -1,89 +1,53 @@\\n-var http = require('http');\\n-var ecstatic = require('ecstatic');\\n-var browserify = require('browserify');\\n-var open = require('open');\\n var fs = require('fs');\\n-var watchify = require('watchify');\\n+var http = require('http');\\n var path = require('path');\\n-var outpipe = require('outpipe');\\n-var outfile = path.join(__dirname, '../shelly/plotlyjs/static/plotlyjs/build/plotlyjs-bundle.js');\\n-\\n-var testFile = './test';\\n-\\n-switch(process.argv[2]) {\\n-  case 'geo':\\n-    testFile = './test-geo';\\n-  break;\\n-  case '2d':\\n-    testFile = './test-2d';\\n-  break;\\n-}\\n-\\n-console.log('using ' + testFile);\\n-\\n-var b = browserify(path.join(__dirname, '../shelly/plotlyjs/static/plotlyjs/src/plotly.js'), {\\n-  debug: true,\\n-  verbose: true,\\n-  standalone: 'Plotly',\\n-  transform: path.join(__dirname, '../shelly/plotlyjs/static/plotlyjs/compress_attributes.js'),\\n-  cache: {},\\n-  packageCache: {}\\n-});\\n-\\n-\\n-var w = watchify(b);\\n \\n-var bytes, time;\\n-w.on('bytes', function (b) { bytes = b });\\n-w.on('time', function (t) { time = t });\\n-\\n-w.on('update', bundle);\\n-bundle();\\n+var browserify = require('browserify');\\n+var ecstatic = require('ecstatic');\\n+var _open = require('open');\\n \\n-var firstBundle = true;\\n+var makeWatchifiedBundle = require('../../tasks/util/make_watchified_bundle');\\n+var shortcutPaths = require('../../tasks/util/shortcut_paths');\\n+var constants = require('../../tasks/util/constants');\\n \\n-function bundle () {\\n-    var didError = false;\\n-    var outStream = process.platform === 'win32'\\n-        ? fs.createWriteStream(outfile)\\n-        : outpipe(outfile);\\n \\n-    var wb = w.bundle();\\n-    wb.on('error', function (err) {\\n-        console.error(String(err));\\n-        didError = true;\\n-        outStream.end('console.error('+JSON.stringify(String(err))+');');\\n-    });\\n-    wb.pipe(outStream);\\n+// TODO make this an optional argument\\n+var PORT = '8080';\\n \\n-    outStream.on('error', function (err) {\\n-        console.error(err);\\n-    });\\n-    outStream.on('close', function () {\\n-        if (!didError) {\\n-            console.error(bytes + ' bytes written to ' + outfile\\n-                + ' (' + (time / 1000).toFixed(2) + ' seconds)'\\n-            );\\n-            if(firstBundle) {\\n-              open('http://localhost:8080/test-dashboard');\\n-              firstBundle = false;\\n-            }\\n-        }\\n-    });\\n+var testFile;\\n+switch(process.argv[2]) {\\n+    case 'geo':\\n+        testFile = './test-geo';\\n+    break;\\n+    case '2d':\\n+        testFile = './test-2d';\\n+    break;\\n+    default:\\n+        testFile = './test-3d';\\n }\\n \\n-////// build the test examples\\n+console.log('Using ' + testFile);\\n+console.log('Listening on :' + PORT + '\\\\n');\\n \\n-fs.unlink('./test-bundle.js', function(error) {\\n-    browserify({\\n+// watch plotly.js\\n+var watchifiedBundle = makeWatchifiedBundle(function onFirstBundleCallback() {\\n+    _open('http://localhost:' + PORT + '/devtools/test_dashboard');\\n+});\\n+watchifiedBundle();\",\n",
       " 'author_association': 'CONTRIBUTOR',\n",
       " 'commit_id': '2abf31f5cb19b7cca9a4944ee506fe716ec44442',\n",
       " 'id': 44735997}"
      ]
     },
     "execution_count": 13,
     "metadata": {},
     "output_type": "execute_result"
    }
   ],
   "source": [
    "dfs[0][0][0]"
   ]
  },
  {
   "cell_type": "code",
   "execution_count": 14,
   "metadata": {},
   "outputs": [
    {
     "data": {
      "application/vnd.jupyter.widget-view+json": {
       "model_id": "f9b66d1e69c54a7385352be8f89bd11f",
       "version_major": 2,
       "version_minor": 0
      },
      "text/plain": [
       "Replace every / in the index with a -:   0%|          | 0/7366 [00:00<?, ?it/s]"
      ]
     },
     "metadata": {},
     "output_type": "display_data"
    }
   ],
   "source": [
    "for i in tqdm(range(len(dfs)), 'Replace every / in the index with a -'):\n",
    "    dfs[i].index = dfs[i].index.str.replace('/', '@')"
   ]
  },
  {
   "cell_type": "code",
   "execution_count": 15,
   "metadata": {},
   "outputs": [
    {
     "data": {
      "application/vnd.jupyter.widget-view+json": {
       "model_id": "604895414e6f4ce088a0a21d26529b70",
       "version_major": 2,
       "version_minor": 0
      },
      "text/plain": [
       "Saving dataframes to json files:   0%|          | 0/7366 [00:00<?, ?it/s]"
      ]
     },
     "metadata": {},
     "output_type": "display_data"
    }
   ],
   "source": [
    "# create repo-split folder\n",
    "import os\n",
    "\n",
    "if not os.path.exists('dataset/mined-comments-25stars-25prs-JavaScript.json/repo-split'):\n",
    "    os.makedirs('dataset/mined-comments-25stars-25prs-JavaScript.json/repo-split')\n",
    "\n",
    "# saving each df to a json file with the repository name as the file name with i in the name so we know the order from the most to the least columns\n",
    "for i in tqdm(range(len(dfs)), 'Saving dataframes to json files'):\n",
    "    dfs[i].to_json('dataset/mined-comments-25stars-25prs-JavaScript.json/repo-split/' + str(i+1) + '-' + dfs[i].index[0] + '.json')"
   ]
  },
  {
   "cell_type": "code",
   "execution_count": 16,
   "metadata": {},
   "outputs": [],
   "source": [
    "# deleting the dfs variable to save memory\n",
    "del dfs"
   ]
  }
 ],
 "metadata": {
  "kernelspec": {
   "display_name": "MachineLearning",
   "language": "python",
   "name": "python3"
  },
  "language_info": {
   "codemirror_mode": {
    "name": "ipython",
    "version": 3
   },
   "file_extension": ".py",
   "mimetype": "text/x-python",
   "name": "python",
   "nbconvert_exporter": "python",
   "pygments_lexer": "ipython3",
   "version": "3.11.2"
  }
 },
 "nbformat": 4,
 "nbformat_minor": 2
}
